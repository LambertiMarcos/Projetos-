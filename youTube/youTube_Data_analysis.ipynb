{
 "cells": [
  {
   "cell_type": "markdown",
   "metadata": {},
   "source": [
    "## Definição do Problema de Negócio"
   ]
  },
  {
   "cell_type": "code",
   "execution_count": null,
   "metadata": {},
   "outputs": [],
   "source": [
    "# 1 - Estrategia da Solução\n",
    "-- Entender o objetivo do projeto\n",
    "    1.1 - Identificar qual o melhor canal do YouTube para realizar anuncio, a fim de obter uma maior exposição da marca anunciada.\n",
    "    1.2 - Identificar se há um dia da semana o que seja melhor para anunciar?\n",
    "    \n",
    "-- Proposta de solução\n",
    "    1.3 - Tabela - vídeo | Visualizações por categoria (Exploratory Data Analysis)\n",
    "    1.4 - Tabela - vídeo | Visualizações por canal (Exploratory Data Analysis)\n",
    "    1.5 - Tabela - vídeo | Visualizações por dia (Exploratory Data Analysis)\n",
    "    1.6 - Tabela - vídeo | Atributos | Correlação ()\n",
    "    1.7 - Tabela - vídeo | O vídeo é tendência (0 , 1)\n",
    "    1.8 - Tabela - vídeo | Realizar analise de Sentimento nos Comentários\n",
    "    1.9 - Tabela - vídeo | Realizar Processamento de Linguaguem Natural\n",
    "    \n",
    "    \n",
    "# 2 - Ciclo para criar solução\n",
    "    \n",
    "    2.1 - Pipeline de Dados funcional de ponta a ponta (coleta de dados até treinamento do modelo)\n",
    "        - \n",
    "    \n",
    "    2.2 - Entender os Dados -> (Inconsistência nos dados) Análise da Estatística Descritiva \n",
    "        média, mediana, std, min, max, kurtoses, skew - Profilling\n",
    "        \n",
    "    2.3 - Feature Engenieering -> Criar variáveis que modelem o fenomeno\n",
    "            mês|dia da semana|%_dislikes|tempo que vira tendência|\n",
    "    \n",
    "    2.4 - Criar a Hipotese do Negócio - (sempre deve ser uma afirmação)\n",
    "        - H1: Os dia da semana tem relação com a quantidade de visualizações.\n",
    "        - H2: Há uma diferença muito grande no nº de vizualizações entre os canais\n",
    "        - H3: Alguns canais tem um aumento de vizualizações em determinados dias da semana\n",
    "            \n",
    "    2.5 - Análise Exploratória dos dados\n",
    "        - Validações ou Refutações das Hipóteses\n",
    "        \n",
    "    2.6 - Treinar o modelo\n",
    "        - By the book\n",
    "\n",
    "# 2 - Tipos de Códigos"
   ]
  },
  {
   "cell_type": "markdown",
   "metadata": {},
   "source": [
    "## Imports"
   ]
  },
  {
   "cell_type": "code",
   "execution_count": 1,
   "metadata": {},
   "outputs": [
    {
     "data": {
      "text/plain": [
       "'3.0.2'"
      ]
     },
     "execution_count": 1,
     "metadata": {},
     "output_type": "execute_result"
    }
   ],
   "source": [
    "# import dos módulos\n",
    "import locale\n",
    "import pandas as pd\n",
    "import numpy as np\n",
    "import matplotlib as mpl\n",
    "import matplotlib.pyplot as plt\n",
    "from pandas import read_csv, read_excel\n",
    "import seaborn as sns\n",
    "import warnings\n",
    "warnings.filterwarnings('ignore')\n",
    "import glob\n",
    "import os, json\n",
    "\n",
    "# Normaliza os dados JSON semiestruturados em uma tabela plana.\n",
    "from pandas.io.json import json_normalize  \n",
    "\n",
    "%matplotlib inline\n",
    "mpl.__version__"
   ]
  },
  {
   "cell_type": "code",
   "execution_count": 2,
   "metadata": {},
   "outputs": [
    {
     "data": {
      "text/plain": [
       "'pt_BR.utf8'"
      ]
     },
     "execution_count": 2,
     "metadata": {},
     "output_type": "execute_result"
    }
   ],
   "source": [
    "locale.setlocale(locale.LC_ALL, 'pt_BR.utf8')"
   ]
  },
  {
   "cell_type": "code",
   "execution_count": 3,
   "metadata": {},
   "outputs": [],
   "source": [
    "# Utiliza os modulos do diretório lib\n",
    "import sys\n",
    "sys.path.append(\"lib\")\n",
    "import geradados_youtube"
   ]
  },
  {
   "cell_type": "markdown",
   "metadata": {},
   "source": [
    "## Loading Data"
   ]
  },
  {
   "cell_type": "markdown",
   "metadata": {},
   "source": [
    "### Arquivo csv"
   ]
  },
  {
   "cell_type": "code",
   "execution_count": 4,
   "metadata": {},
   "outputs": [],
   "source": [
    "# Leitura e Concatenação dos arquivos *.csv do diretório \n",
    "geradados_youtube.get_concat_save_data()"
   ]
  },
  {
   "cell_type": "code",
   "execution_count": 57,
   "metadata": {},
   "outputs": [
    {
     "ename": "ParserError",
     "evalue": "Error tokenizing data. C error: Expected 1 fields in line 3, saw 4\n",
     "output_type": "error",
     "traceback": [
      "\u001b[1;31m---------------------------------------------------------------------------\u001b[0m",
      "\u001b[1;31mParserError\u001b[0m                               Traceback (most recent call last)",
      "\u001b[1;32m<ipython-input-57-c2ac725510e2>\u001b[0m in \u001b[0;36m<module>\u001b[1;34m\u001b[0m\n\u001b[0;32m      1\u001b[0m \u001b[1;31m# Leitura do arquivo concatenado\u001b[0m\u001b[1;33m\u001b[0m\u001b[1;33m\u001b[0m\u001b[1;33m\u001b[0m\u001b[0m\n\u001b[0;32m      2\u001b[0m \u001b[0marquivo\u001b[0m \u001b[1;33m=\u001b[0m \u001b[1;34m\"Dados/merged_files2.csv\"\u001b[0m\u001b[1;33m\u001b[0m\u001b[1;33m\u001b[0m\u001b[0m\n\u001b[1;32m----> 3\u001b[1;33m \u001b[0mdadosCsv\u001b[0m \u001b[1;33m=\u001b[0m \u001b[0mread_csv\u001b[0m\u001b[1;33m(\u001b[0m\u001b[0marquivo\u001b[0m\u001b[1;33m,\u001b[0m \u001b[0mencoding\u001b[0m \u001b[1;33m=\u001b[0m \u001b[1;34m\"latin-1\"\u001b[0m\u001b[1;33m,\u001b[0m \u001b[0mheader\u001b[0m\u001b[1;33m=\u001b[0m\u001b[1;32mNone\u001b[0m\u001b[1;33m)\u001b[0m\u001b[1;33m\u001b[0m\u001b[1;33m\u001b[0m\u001b[0m\n\u001b[0m\u001b[0;32m      4\u001b[0m \u001b[0mprint\u001b[0m\u001b[1;33m(\u001b[0m\u001b[0mdadosCsv\u001b[0m\u001b[1;33m.\u001b[0m\u001b[0mshape\u001b[0m\u001b[1;33m)\u001b[0m\u001b[1;33m\u001b[0m\u001b[1;33m\u001b[0m\u001b[0m\n",
      "\u001b[1;32m~\\Anaconda3\\lib\\site-packages\\pandas\\io\\parsers.py\u001b[0m in \u001b[0;36mparser_f\u001b[1;34m(filepath_or_buffer, sep, delimiter, header, names, index_col, usecols, squeeze, prefix, mangle_dupe_cols, dtype, engine, converters, true_values, false_values, skipinitialspace, skiprows, skipfooter, nrows, na_values, keep_default_na, na_filter, verbose, skip_blank_lines, parse_dates, infer_datetime_format, keep_date_col, date_parser, dayfirst, cache_dates, iterator, chunksize, compression, thousands, decimal, lineterminator, quotechar, quoting, doublequote, escapechar, comment, encoding, dialect, error_bad_lines, warn_bad_lines, delim_whitespace, low_memory, memory_map, float_precision)\u001b[0m\n\u001b[0;32m    674\u001b[0m         )\n\u001b[0;32m    675\u001b[0m \u001b[1;33m\u001b[0m\u001b[0m\n\u001b[1;32m--> 676\u001b[1;33m         \u001b[1;32mreturn\u001b[0m \u001b[0m_read\u001b[0m\u001b[1;33m(\u001b[0m\u001b[0mfilepath_or_buffer\u001b[0m\u001b[1;33m,\u001b[0m \u001b[0mkwds\u001b[0m\u001b[1;33m)\u001b[0m\u001b[1;33m\u001b[0m\u001b[1;33m\u001b[0m\u001b[0m\n\u001b[0m\u001b[0;32m    677\u001b[0m \u001b[1;33m\u001b[0m\u001b[0m\n\u001b[0;32m    678\u001b[0m     \u001b[0mparser_f\u001b[0m\u001b[1;33m.\u001b[0m\u001b[0m__name__\u001b[0m \u001b[1;33m=\u001b[0m \u001b[0mname\u001b[0m\u001b[1;33m\u001b[0m\u001b[1;33m\u001b[0m\u001b[0m\n",
      "\u001b[1;32m~\\Anaconda3\\lib\\site-packages\\pandas\\io\\parsers.py\u001b[0m in \u001b[0;36m_read\u001b[1;34m(filepath_or_buffer, kwds)\u001b[0m\n\u001b[0;32m    452\u001b[0m \u001b[1;33m\u001b[0m\u001b[0m\n\u001b[0;32m    453\u001b[0m     \u001b[1;32mtry\u001b[0m\u001b[1;33m:\u001b[0m\u001b[1;33m\u001b[0m\u001b[1;33m\u001b[0m\u001b[0m\n\u001b[1;32m--> 454\u001b[1;33m         \u001b[0mdata\u001b[0m \u001b[1;33m=\u001b[0m \u001b[0mparser\u001b[0m\u001b[1;33m.\u001b[0m\u001b[0mread\u001b[0m\u001b[1;33m(\u001b[0m\u001b[0mnrows\u001b[0m\u001b[1;33m)\u001b[0m\u001b[1;33m\u001b[0m\u001b[1;33m\u001b[0m\u001b[0m\n\u001b[0m\u001b[0;32m    455\u001b[0m     \u001b[1;32mfinally\u001b[0m\u001b[1;33m:\u001b[0m\u001b[1;33m\u001b[0m\u001b[1;33m\u001b[0m\u001b[0m\n\u001b[0;32m    456\u001b[0m         \u001b[0mparser\u001b[0m\u001b[1;33m.\u001b[0m\u001b[0mclose\u001b[0m\u001b[1;33m(\u001b[0m\u001b[1;33m)\u001b[0m\u001b[1;33m\u001b[0m\u001b[1;33m\u001b[0m\u001b[0m\n",
      "\u001b[1;32m~\\Anaconda3\\lib\\site-packages\\pandas\\io\\parsers.py\u001b[0m in \u001b[0;36mread\u001b[1;34m(self, nrows)\u001b[0m\n\u001b[0;32m   1131\u001b[0m     \u001b[1;32mdef\u001b[0m \u001b[0mread\u001b[0m\u001b[1;33m(\u001b[0m\u001b[0mself\u001b[0m\u001b[1;33m,\u001b[0m \u001b[0mnrows\u001b[0m\u001b[1;33m=\u001b[0m\u001b[1;32mNone\u001b[0m\u001b[1;33m)\u001b[0m\u001b[1;33m:\u001b[0m\u001b[1;33m\u001b[0m\u001b[1;33m\u001b[0m\u001b[0m\n\u001b[0;32m   1132\u001b[0m         \u001b[0mnrows\u001b[0m \u001b[1;33m=\u001b[0m \u001b[0m_validate_integer\u001b[0m\u001b[1;33m(\u001b[0m\u001b[1;34m\"nrows\"\u001b[0m\u001b[1;33m,\u001b[0m \u001b[0mnrows\u001b[0m\u001b[1;33m)\u001b[0m\u001b[1;33m\u001b[0m\u001b[1;33m\u001b[0m\u001b[0m\n\u001b[1;32m-> 1133\u001b[1;33m         \u001b[0mret\u001b[0m \u001b[1;33m=\u001b[0m \u001b[0mself\u001b[0m\u001b[1;33m.\u001b[0m\u001b[0m_engine\u001b[0m\u001b[1;33m.\u001b[0m\u001b[0mread\u001b[0m\u001b[1;33m(\u001b[0m\u001b[0mnrows\u001b[0m\u001b[1;33m)\u001b[0m\u001b[1;33m\u001b[0m\u001b[1;33m\u001b[0m\u001b[0m\n\u001b[0m\u001b[0;32m   1134\u001b[0m \u001b[1;33m\u001b[0m\u001b[0m\n\u001b[0;32m   1135\u001b[0m         \u001b[1;31m# May alter columns / col_dict\u001b[0m\u001b[1;33m\u001b[0m\u001b[1;33m\u001b[0m\u001b[1;33m\u001b[0m\u001b[0m\n",
      "\u001b[1;32m~\\Anaconda3\\lib\\site-packages\\pandas\\io\\parsers.py\u001b[0m in \u001b[0;36mread\u001b[1;34m(self, nrows)\u001b[0m\n\u001b[0;32m   2035\u001b[0m     \u001b[1;32mdef\u001b[0m \u001b[0mread\u001b[0m\u001b[1;33m(\u001b[0m\u001b[0mself\u001b[0m\u001b[1;33m,\u001b[0m \u001b[0mnrows\u001b[0m\u001b[1;33m=\u001b[0m\u001b[1;32mNone\u001b[0m\u001b[1;33m)\u001b[0m\u001b[1;33m:\u001b[0m\u001b[1;33m\u001b[0m\u001b[1;33m\u001b[0m\u001b[0m\n\u001b[0;32m   2036\u001b[0m         \u001b[1;32mtry\u001b[0m\u001b[1;33m:\u001b[0m\u001b[1;33m\u001b[0m\u001b[1;33m\u001b[0m\u001b[0m\n\u001b[1;32m-> 2037\u001b[1;33m             \u001b[0mdata\u001b[0m \u001b[1;33m=\u001b[0m \u001b[0mself\u001b[0m\u001b[1;33m.\u001b[0m\u001b[0m_reader\u001b[0m\u001b[1;33m.\u001b[0m\u001b[0mread\u001b[0m\u001b[1;33m(\u001b[0m\u001b[0mnrows\u001b[0m\u001b[1;33m)\u001b[0m\u001b[1;33m\u001b[0m\u001b[1;33m\u001b[0m\u001b[0m\n\u001b[0m\u001b[0;32m   2038\u001b[0m         \u001b[1;32mexcept\u001b[0m \u001b[0mStopIteration\u001b[0m\u001b[1;33m:\u001b[0m\u001b[1;33m\u001b[0m\u001b[1;33m\u001b[0m\u001b[0m\n\u001b[0;32m   2039\u001b[0m             \u001b[1;32mif\u001b[0m \u001b[0mself\u001b[0m\u001b[1;33m.\u001b[0m\u001b[0m_first_chunk\u001b[0m\u001b[1;33m:\u001b[0m\u001b[1;33m\u001b[0m\u001b[1;33m\u001b[0m\u001b[0m\n",
      "\u001b[1;32mpandas\\_libs\\parsers.pyx\u001b[0m in \u001b[0;36mpandas._libs.parsers.TextReader.read\u001b[1;34m()\u001b[0m\n",
      "\u001b[1;32mpandas\\_libs\\parsers.pyx\u001b[0m in \u001b[0;36mpandas._libs.parsers.TextReader._read_low_memory\u001b[1;34m()\u001b[0m\n",
      "\u001b[1;32mpandas\\_libs\\parsers.pyx\u001b[0m in \u001b[0;36mpandas._libs.parsers.TextReader._read_rows\u001b[1;34m()\u001b[0m\n",
      "\u001b[1;32mpandas\\_libs\\parsers.pyx\u001b[0m in \u001b[0;36mpandas._libs.parsers.TextReader._tokenize_rows\u001b[1;34m()\u001b[0m\n",
      "\u001b[1;32mpandas\\_libs\\parsers.pyx\u001b[0m in \u001b[0;36mpandas._libs.parsers.raise_parser_error\u001b[1;34m()\u001b[0m\n",
      "\u001b[1;31mParserError\u001b[0m: Error tokenizing data. C error: Expected 1 fields in line 3, saw 4\n"
     ]
    }
   ],
   "source": [
    "# Leitura do arquivo concatenado\n",
    "arquivo = \"Dados/merged_files.csv\"\n",
    "dadosCsv = read_csv(arquivo, encoding = \"latin-1\")\n",
    "print(dadosCsv.shape)"
   ]
  },
  {
   "cell_type": "code",
   "execution_count": 55,
   "metadata": {},
   "outputs": [
    {
     "data": {
      "text/html": [
       "<div>\n",
       "<style scoped>\n",
       "    .dataframe tbody tr th:only-of-type {\n",
       "        vertical-align: middle;\n",
       "    }\n",
       "\n",
       "    .dataframe tbody tr th {\n",
       "        vertical-align: top;\n",
       "    }\n",
       "\n",
       "    .dataframe thead th {\n",
       "        text-align: right;\n",
       "    }\n",
       "</style>\n",
       "<table border=\"1\" class=\"dataframe\">\n",
       "  <thead>\n",
       "    <tr style=\"text-align: right;\">\n",
       "      <th></th>\n",
       "      <th>Unnamed: 0</th>\n",
       "      <th>video_id</th>\n",
       "      <th>trending_date</th>\n",
       "      <th>title</th>\n",
       "      <th>channel_title</th>\n",
       "      <th>category_id</th>\n",
       "      <th>publish_time</th>\n",
       "      <th>tags</th>\n",
       "      <th>views</th>\n",
       "      <th>likes</th>\n",
       "      <th>dislikes</th>\n",
       "      <th>comment_count</th>\n",
       "      <th>thumbnail_link</th>\n",
       "      <th>comments_disabled</th>\n",
       "      <th>ratings_disabled</th>\n",
       "      <th>video_error_or_removed</th>\n",
       "      <th>description</th>\n",
       "    </tr>\n",
       "  </thead>\n",
       "  <tbody>\n",
       "    <tr>\n",
       "      <th>0</th>\n",
       "      <td>0</td>\n",
       "      <td>n1WpP7iowLc</td>\n",
       "      <td>17.14.11</td>\n",
       "      <td>Eminem - Walk On Water (Audio) ft. BeyoncÃÂ©</td>\n",
       "      <td>EminemVEVO</td>\n",
       "      <td>10</td>\n",
       "      <td>2017-11-10T17:00:03.000Z</td>\n",
       "      <td>Eminem|\"Walk\"|\"On\"|\"Water\"|\"Aftermath/Shady/In...</td>\n",
       "      <td>17158579</td>\n",
       "      <td>787425</td>\n",
       "      <td>43420</td>\n",
       "      <td>125882</td>\n",
       "      <td>https://i.ytimg.com/vi/n1WpP7iowLc/default.jpg</td>\n",
       "      <td>False</td>\n",
       "      <td>False</td>\n",
       "      <td>False</td>\n",
       "      <td>Eminem's new track Walk on Water ft. BeyoncÃÂ...</td>\n",
       "    </tr>\n",
       "    <tr>\n",
       "      <th>1</th>\n",
       "      <td>1</td>\n",
       "      <td>0dBIkQ4Mz1M</td>\n",
       "      <td>17.14.11</td>\n",
       "      <td>PLUSH - Bad Unboxing Fan Mail</td>\n",
       "      <td>iDubbbzTV</td>\n",
       "      <td>23</td>\n",
       "      <td>2017-11-13T17:00:00.000Z</td>\n",
       "      <td>plush|\"bad unboxing\"|\"unboxing\"|\"fan mail\"|\"id...</td>\n",
       "      <td>1014651</td>\n",
       "      <td>127794</td>\n",
       "      <td>1688</td>\n",
       "      <td>13030</td>\n",
       "      <td>https://i.ytimg.com/vi/0dBIkQ4Mz1M/default.jpg</td>\n",
       "      <td>False</td>\n",
       "      <td>False</td>\n",
       "      <td>False</td>\n",
       "      <td>STill got a lot of packages. Probably will las...</td>\n",
       "    </tr>\n",
       "    <tr>\n",
       "      <th>2</th>\n",
       "      <td>2</td>\n",
       "      <td>5qpjK5DgCt4</td>\n",
       "      <td>17.14.11</td>\n",
       "      <td>Racist Superman | Rudy Mancuso, King Bach &amp; Le...</td>\n",
       "      <td>Rudy Mancuso</td>\n",
       "      <td>23</td>\n",
       "      <td>2017-11-12T19:05:24.000Z</td>\n",
       "      <td>racist superman|\"rudy\"|\"mancuso\"|\"king\"|\"bach\"...</td>\n",
       "      <td>3191434</td>\n",
       "      <td>146035</td>\n",
       "      <td>5339</td>\n",
       "      <td>8181</td>\n",
       "      <td>https://i.ytimg.com/vi/5qpjK5DgCt4/default.jpg</td>\n",
       "      <td>False</td>\n",
       "      <td>False</td>\n",
       "      <td>False</td>\n",
       "      <td>WATCH MY PREVIOUS VIDEO Ã¢ÂÂ¶ \\n\\nSUBSCRIBE Ã...</td>\n",
       "    </tr>\n",
       "    <tr>\n",
       "      <th>3</th>\n",
       "      <td>3</td>\n",
       "      <td>d380meD0W0M</td>\n",
       "      <td>17.14.11</td>\n",
       "      <td>I Dare You: GOING BALD!?</td>\n",
       "      <td>nigahiga</td>\n",
       "      <td>24</td>\n",
       "      <td>2017-11-12T18:01:41.000Z</td>\n",
       "      <td>ryan|\"higa\"|\"higatv\"|\"nigahiga\"|\"i dare you\"|\"...</td>\n",
       "      <td>2095828</td>\n",
       "      <td>132239</td>\n",
       "      <td>1989</td>\n",
       "      <td>17518</td>\n",
       "      <td>https://i.ytimg.com/vi/d380meD0W0M/default.jpg</td>\n",
       "      <td>False</td>\n",
       "      <td>False</td>\n",
       "      <td>False</td>\n",
       "      <td>I know it's been a while since we did this sho...</td>\n",
       "    </tr>\n",
       "    <tr>\n",
       "      <th>4</th>\n",
       "      <td>4</td>\n",
       "      <td>2Vv-BfVoq4g</td>\n",
       "      <td>17.14.11</td>\n",
       "      <td>Ed Sheeran - Perfect (Official Music Video)</td>\n",
       "      <td>Ed Sheeran</td>\n",
       "      <td>10</td>\n",
       "      <td>2017-11-09T11:04:14.000Z</td>\n",
       "      <td>edsheeran|\"ed sheeran\"|\"acoustic\"|\"live\"|\"cove...</td>\n",
       "      <td>33523622</td>\n",
       "      <td>1634130</td>\n",
       "      <td>21082</td>\n",
       "      <td>85067</td>\n",
       "      <td>https://i.ytimg.com/vi/2Vv-BfVoq4g/default.jpg</td>\n",
       "      <td>False</td>\n",
       "      <td>False</td>\n",
       "      <td>False</td>\n",
       "      <td>Ã°ÂÂÂ§: https://ad.gt/yt-perfect\\nÃ°ÂÂÂ°: ...</td>\n",
       "    </tr>\n",
       "  </tbody>\n",
       "</table>\n",
       "</div>"
      ],
      "text/plain": [
       "   Unnamed: 0     video_id trending_date  \\\n",
       "0           0  n1WpP7iowLc      17.14.11   \n",
       "1           1  0dBIkQ4Mz1M      17.14.11   \n",
       "2           2  5qpjK5DgCt4      17.14.11   \n",
       "3           3  d380meD0W0M      17.14.11   \n",
       "4           4  2Vv-BfVoq4g      17.14.11   \n",
       "\n",
       "                                               title channel_title  \\\n",
       "0      Eminem - Walk On Water (Audio) ft. BeyoncÃÂ©    EminemVEVO   \n",
       "1                      PLUSH - Bad Unboxing Fan Mail     iDubbbzTV   \n",
       "2  Racist Superman | Rudy Mancuso, King Bach & Le...  Rudy Mancuso   \n",
       "3                           I Dare You: GOING BALD!?      nigahiga   \n",
       "4        Ed Sheeran - Perfect (Official Music Video)    Ed Sheeran   \n",
       "\n",
       "   category_id              publish_time  \\\n",
       "0           10  2017-11-10T17:00:03.000Z   \n",
       "1           23  2017-11-13T17:00:00.000Z   \n",
       "2           23  2017-11-12T19:05:24.000Z   \n",
       "3           24  2017-11-12T18:01:41.000Z   \n",
       "4           10  2017-11-09T11:04:14.000Z   \n",
       "\n",
       "                                                tags     views    likes  \\\n",
       "0  Eminem|\"Walk\"|\"On\"|\"Water\"|\"Aftermath/Shady/In...  17158579   787425   \n",
       "1  plush|\"bad unboxing\"|\"unboxing\"|\"fan mail\"|\"id...   1014651   127794   \n",
       "2  racist superman|\"rudy\"|\"mancuso\"|\"king\"|\"bach\"...   3191434   146035   \n",
       "3  ryan|\"higa\"|\"higatv\"|\"nigahiga\"|\"i dare you\"|\"...   2095828   132239   \n",
       "4  edsheeran|\"ed sheeran\"|\"acoustic\"|\"live\"|\"cove...  33523622  1634130   \n",
       "\n",
       "   dislikes  comment_count                                  thumbnail_link  \\\n",
       "0     43420         125882  https://i.ytimg.com/vi/n1WpP7iowLc/default.jpg   \n",
       "1      1688          13030  https://i.ytimg.com/vi/0dBIkQ4Mz1M/default.jpg   \n",
       "2      5339           8181  https://i.ytimg.com/vi/5qpjK5DgCt4/default.jpg   \n",
       "3      1989          17518  https://i.ytimg.com/vi/d380meD0W0M/default.jpg   \n",
       "4     21082          85067  https://i.ytimg.com/vi/2Vv-BfVoq4g/default.jpg   \n",
       "\n",
       "   comments_disabled  ratings_disabled  video_error_or_removed  \\\n",
       "0              False             False                   False   \n",
       "1              False             False                   False   \n",
       "2              False             False                   False   \n",
       "3              False             False                   False   \n",
       "4              False             False                   False   \n",
       "\n",
       "                                         description  \n",
       "0  Eminem's new track Walk on Water ft. BeyoncÃÂ...  \n",
       "1  STill got a lot of packages. Probably will las...  \n",
       "2  WATCH MY PREVIOUS VIDEO Ã¢ÂÂ¶ \\n\\nSUBSCRIBE Ã...  \n",
       "3  I know it's been a while since we did this sho...  \n",
       "4  Ã°ÂÂÂ§: https://ad.gt/yt-perfect\\nÃ°ÂÂÂ°: ...  "
      ]
     },
     "execution_count": 55,
     "metadata": {},
     "output_type": "execute_result"
    }
   ],
   "source": [
    "dadosCsv.head(5)"
   ]
  },
  {
   "cell_type": "markdown",
   "metadata": {},
   "source": [
    "### Arquivo js"
   ]
  },
  {
   "cell_type": "code",
   "execution_count": 7,
   "metadata": {},
   "outputs": [],
   "source": [
    "#  Leitura e Concatenação dos arquivos *.json do diretório \n",
    "contents = []\n",
    "json_dir_name = \"arquivos/\"\n",
    "\n",
    "json_pattern = os.path.join(json_dir_name,'*.json')\n",
    "file_list = glob.glob(json_pattern)\n",
    "for file in file_list:\n",
    "    contents.append(pd.read_json(file))\n",
    "    dadosJs = pd.concat(contents)"
   ]
  },
  {
   "cell_type": "code",
   "execution_count": 8,
   "metadata": {},
   "outputs": [
    {
     "data": {
      "text/html": [
       "<div>\n",
       "<style scoped>\n",
       "    .dataframe tbody tr th:only-of-type {\n",
       "        vertical-align: middle;\n",
       "    }\n",
       "\n",
       "    .dataframe tbody tr th {\n",
       "        vertical-align: top;\n",
       "    }\n",
       "\n",
       "    .dataframe thead th {\n",
       "        text-align: right;\n",
       "    }\n",
       "</style>\n",
       "<table border=\"1\" class=\"dataframe\">\n",
       "  <thead>\n",
       "    <tr style=\"text-align: right;\">\n",
       "      <th></th>\n",
       "      <th>kind</th>\n",
       "      <th>etag</th>\n",
       "      <th>items</th>\n",
       "    </tr>\n",
       "  </thead>\n",
       "  <tbody>\n",
       "    <tr>\n",
       "      <th>0</th>\n",
       "      <td>youtube#videoCategoryListResponse</td>\n",
       "      <td>\"ld9biNPKjAjgjV7EZ4EKeEGrhao/1v2mrzYSYG6onNLt2...</td>\n",
       "      <td>{'kind': 'youtube#videoCategory', 'etag': '\"ld...</td>\n",
       "    </tr>\n",
       "    <tr>\n",
       "      <th>1</th>\n",
       "      <td>youtube#videoCategoryListResponse</td>\n",
       "      <td>\"ld9biNPKjAjgjV7EZ4EKeEGrhao/1v2mrzYSYG6onNLt2...</td>\n",
       "      <td>{'kind': 'youtube#videoCategory', 'etag': '\"ld...</td>\n",
       "    </tr>\n",
       "    <tr>\n",
       "      <th>2</th>\n",
       "      <td>youtube#videoCategoryListResponse</td>\n",
       "      <td>\"ld9biNPKjAjgjV7EZ4EKeEGrhao/1v2mrzYSYG6onNLt2...</td>\n",
       "      <td>{'kind': 'youtube#videoCategory', 'etag': '\"ld...</td>\n",
       "    </tr>\n",
       "    <tr>\n",
       "      <th>3</th>\n",
       "      <td>youtube#videoCategoryListResponse</td>\n",
       "      <td>\"ld9biNPKjAjgjV7EZ4EKeEGrhao/1v2mrzYSYG6onNLt2...</td>\n",
       "      <td>{'kind': 'youtube#videoCategory', 'etag': '\"ld...</td>\n",
       "    </tr>\n",
       "    <tr>\n",
       "      <th>4</th>\n",
       "      <td>youtube#videoCategoryListResponse</td>\n",
       "      <td>\"ld9biNPKjAjgjV7EZ4EKeEGrhao/1v2mrzYSYG6onNLt2...</td>\n",
       "      <td>{'kind': 'youtube#videoCategory', 'etag': '\"ld...</td>\n",
       "    </tr>\n",
       "  </tbody>\n",
       "</table>\n",
       "</div>"
      ],
      "text/plain": [
       "                                kind  \\\n",
       "0  youtube#videoCategoryListResponse   \n",
       "1  youtube#videoCategoryListResponse   \n",
       "2  youtube#videoCategoryListResponse   \n",
       "3  youtube#videoCategoryListResponse   \n",
       "4  youtube#videoCategoryListResponse   \n",
       "\n",
       "                                                etag  \\\n",
       "0  \"ld9biNPKjAjgjV7EZ4EKeEGrhao/1v2mrzYSYG6onNLt2...   \n",
       "1  \"ld9biNPKjAjgjV7EZ4EKeEGrhao/1v2mrzYSYG6onNLt2...   \n",
       "2  \"ld9biNPKjAjgjV7EZ4EKeEGrhao/1v2mrzYSYG6onNLt2...   \n",
       "3  \"ld9biNPKjAjgjV7EZ4EKeEGrhao/1v2mrzYSYG6onNLt2...   \n",
       "4  \"ld9biNPKjAjgjV7EZ4EKeEGrhao/1v2mrzYSYG6onNLt2...   \n",
       "\n",
       "                                               items  \n",
       "0  {'kind': 'youtube#videoCategory', 'etag': '\"ld...  \n",
       "1  {'kind': 'youtube#videoCategory', 'etag': '\"ld...  \n",
       "2  {'kind': 'youtube#videoCategory', 'etag': '\"ld...  \n",
       "3  {'kind': 'youtube#videoCategory', 'etag': '\"ld...  \n",
       "4  {'kind': 'youtube#videoCategory', 'etag': '\"ld...  "
      ]
     },
     "execution_count": 8,
     "metadata": {},
     "output_type": "execute_result"
    }
   ],
   "source": [
    "dadosJs.head(5)"
   ]
  },
  {
   "cell_type": "markdown",
   "metadata": {},
   "source": [
    "## Data Preparation"
   ]
  },
  {
   "cell_type": "code",
   "execution_count": 9,
   "metadata": {},
   "outputs": [],
   "source": [
    "# Fazendo um subset nos dados, pegando apenas as informações da coluna 'items'\n",
    "df_djson = dadosJs['items']"
   ]
  },
  {
   "cell_type": "code",
   "execution_count": 10,
   "metadata": {},
   "outputs": [
    {
     "data": {
      "text/plain": [
       "0    {'kind': 'youtube#videoCategory', 'etag': '\"ld...\n",
       "1    {'kind': 'youtube#videoCategory', 'etag': '\"ld...\n",
       "2    {'kind': 'youtube#videoCategory', 'etag': '\"ld...\n",
       "3    {'kind': 'youtube#videoCategory', 'etag': '\"ld...\n",
       "4    {'kind': 'youtube#videoCategory', 'etag': '\"ld...\n",
       "Name: items, dtype: object"
      ]
     },
     "execution_count": 10,
     "metadata": {},
     "output_type": "execute_result"
    }
   ],
   "source": [
    "df_djson.head(5)"
   ]
  },
  {
   "cell_type": "code",
   "execution_count": 11,
   "metadata": {},
   "outputs": [],
   "source": [
    "# Aplicando estrutura no dados\n",
    "dadosJs_norm = pd.json_normalize(df_djson)"
   ]
  },
  {
   "cell_type": "code",
   "execution_count": 12,
   "metadata": {},
   "outputs": [
    {
     "data": {
      "text/html": [
       "<div>\n",
       "<style scoped>\n",
       "    .dataframe tbody tr th:only-of-type {\n",
       "        vertical-align: middle;\n",
       "    }\n",
       "\n",
       "    .dataframe tbody tr th {\n",
       "        vertical-align: top;\n",
       "    }\n",
       "\n",
       "    .dataframe thead th {\n",
       "        text-align: right;\n",
       "    }\n",
       "</style>\n",
       "<table border=\"1\" class=\"dataframe\">\n",
       "  <thead>\n",
       "    <tr style=\"text-align: right;\">\n",
       "      <th></th>\n",
       "      <th>kind</th>\n",
       "      <th>etag</th>\n",
       "      <th>id</th>\n",
       "      <th>snippet.channelId</th>\n",
       "      <th>snippet.title</th>\n",
       "      <th>snippet.assignable</th>\n",
       "    </tr>\n",
       "  </thead>\n",
       "  <tbody>\n",
       "    <tr>\n",
       "      <th>0</th>\n",
       "      <td>youtube#videoCategory</td>\n",
       "      <td>\"ld9biNPKjAjgjV7EZ4EKeEGrhao/Xy1mB4_yLrHy_BmKm...</td>\n",
       "      <td>1</td>\n",
       "      <td>UCBR8-60-B28hp2BmDPdntcQ</td>\n",
       "      <td>Film &amp; Animation</td>\n",
       "      <td>True</td>\n",
       "    </tr>\n",
       "    <tr>\n",
       "      <th>1</th>\n",
       "      <td>youtube#videoCategory</td>\n",
       "      <td>\"ld9biNPKjAjgjV7EZ4EKeEGrhao/UZ1oLIIz2dxIhO45Z...</td>\n",
       "      <td>2</td>\n",
       "      <td>UCBR8-60-B28hp2BmDPdntcQ</td>\n",
       "      <td>Autos &amp; Vehicles</td>\n",
       "      <td>True</td>\n",
       "    </tr>\n",
       "    <tr>\n",
       "      <th>2</th>\n",
       "      <td>youtube#videoCategory</td>\n",
       "      <td>\"ld9biNPKjAjgjV7EZ4EKeEGrhao/nqRIq97-xe5XRZTxb...</td>\n",
       "      <td>10</td>\n",
       "      <td>UCBR8-60-B28hp2BmDPdntcQ</td>\n",
       "      <td>Music</td>\n",
       "      <td>True</td>\n",
       "    </tr>\n",
       "    <tr>\n",
       "      <th>3</th>\n",
       "      <td>youtube#videoCategory</td>\n",
       "      <td>\"ld9biNPKjAjgjV7EZ4EKeEGrhao/HwXKamM1Q20q9BN-o...</td>\n",
       "      <td>15</td>\n",
       "      <td>UCBR8-60-B28hp2BmDPdntcQ</td>\n",
       "      <td>Pets &amp; Animals</td>\n",
       "      <td>True</td>\n",
       "    </tr>\n",
       "    <tr>\n",
       "      <th>4</th>\n",
       "      <td>youtube#videoCategory</td>\n",
       "      <td>\"ld9biNPKjAjgjV7EZ4EKeEGrhao/9GQMSRjrZdHeb1OEM...</td>\n",
       "      <td>17</td>\n",
       "      <td>UCBR8-60-B28hp2BmDPdntcQ</td>\n",
       "      <td>Sports</td>\n",
       "      <td>True</td>\n",
       "    </tr>\n",
       "  </tbody>\n",
       "</table>\n",
       "</div>"
      ],
      "text/plain": [
       "                    kind                                               etag  \\\n",
       "0  youtube#videoCategory  \"ld9biNPKjAjgjV7EZ4EKeEGrhao/Xy1mB4_yLrHy_BmKm...   \n",
       "1  youtube#videoCategory  \"ld9biNPKjAjgjV7EZ4EKeEGrhao/UZ1oLIIz2dxIhO45Z...   \n",
       "2  youtube#videoCategory  \"ld9biNPKjAjgjV7EZ4EKeEGrhao/nqRIq97-xe5XRZTxb...   \n",
       "3  youtube#videoCategory  \"ld9biNPKjAjgjV7EZ4EKeEGrhao/HwXKamM1Q20q9BN-o...   \n",
       "4  youtube#videoCategory  \"ld9biNPKjAjgjV7EZ4EKeEGrhao/9GQMSRjrZdHeb1OEM...   \n",
       "\n",
       "   id         snippet.channelId     snippet.title  snippet.assignable  \n",
       "0   1  UCBR8-60-B28hp2BmDPdntcQ  Film & Animation                True  \n",
       "1   2  UCBR8-60-B28hp2BmDPdntcQ  Autos & Vehicles                True  \n",
       "2  10  UCBR8-60-B28hp2BmDPdntcQ             Music                True  \n",
       "3  15  UCBR8-60-B28hp2BmDPdntcQ    Pets & Animals                True  \n",
       "4  17  UCBR8-60-B28hp2BmDPdntcQ            Sports                True  "
      ]
     },
     "execution_count": 12,
     "metadata": {},
     "output_type": "execute_result"
    }
   ],
   "source": [
    "dadosJs_norm.head(5)"
   ]
  },
  {
   "cell_type": "code",
   "execution_count": 13,
   "metadata": {},
   "outputs": [],
   "source": [
    "# Fazendo um subset nos dados, pegando apenas as colunas 'id','snippet.title'.\n",
    "Js_category = dadosJs_norm[['id','snippet.title']]"
   ]
  },
  {
   "cell_type": "code",
   "execution_count": 14,
   "metadata": {},
   "outputs": [],
   "source": [
    "# Removendo as informações duplicadas\n",
    "Js_category = Js_category.drop_duplicates()"
   ]
  },
  {
   "cell_type": "code",
   "execution_count": 15,
   "metadata": {},
   "outputs": [
    {
     "data": {
      "text/plain": [
       "id               32\n",
       "snippet.title    31\n",
       "dtype: int64"
      ]
     },
     "execution_count": 15,
     "metadata": {},
     "output_type": "execute_result"
    }
   ],
   "source": [
    "Js_category.nunique()"
   ]
  },
  {
   "cell_type": "code",
   "execution_count": 16,
   "metadata": {},
   "outputs": [
    {
     "data": {
      "text/html": [
       "<div>\n",
       "<style scoped>\n",
       "    .dataframe tbody tr th:only-of-type {\n",
       "        vertical-align: middle;\n",
       "    }\n",
       "\n",
       "    .dataframe tbody tr th {\n",
       "        vertical-align: top;\n",
       "    }\n",
       "\n",
       "    .dataframe thead th {\n",
       "        text-align: right;\n",
       "    }\n",
       "</style>\n",
       "<table border=\"1\" class=\"dataframe\">\n",
       "  <thead>\n",
       "    <tr style=\"text-align: right;\">\n",
       "      <th></th>\n",
       "      <th>id</th>\n",
       "      <th>snippet.title</th>\n",
       "    </tr>\n",
       "  </thead>\n",
       "  <tbody>\n",
       "    <tr>\n",
       "      <th>0</th>\n",
       "      <td>1</td>\n",
       "      <td>Film &amp; Animation</td>\n",
       "    </tr>\n",
       "    <tr>\n",
       "      <th>1</th>\n",
       "      <td>2</td>\n",
       "      <td>Autos &amp; Vehicles</td>\n",
       "    </tr>\n",
       "    <tr>\n",
       "      <th>2</th>\n",
       "      <td>10</td>\n",
       "      <td>Music</td>\n",
       "    </tr>\n",
       "    <tr>\n",
       "      <th>3</th>\n",
       "      <td>15</td>\n",
       "      <td>Pets &amp; Animals</td>\n",
       "    </tr>\n",
       "    <tr>\n",
       "      <th>4</th>\n",
       "      <td>17</td>\n",
       "      <td>Sports</td>\n",
       "    </tr>\n",
       "    <tr>\n",
       "      <th>5</th>\n",
       "      <td>18</td>\n",
       "      <td>Short Movies</td>\n",
       "    </tr>\n",
       "    <tr>\n",
       "      <th>6</th>\n",
       "      <td>19</td>\n",
       "      <td>Travel &amp; Events</td>\n",
       "    </tr>\n",
       "    <tr>\n",
       "      <th>7</th>\n",
       "      <td>20</td>\n",
       "      <td>Gaming</td>\n",
       "    </tr>\n",
       "    <tr>\n",
       "      <th>8</th>\n",
       "      <td>21</td>\n",
       "      <td>Videoblogging</td>\n",
       "    </tr>\n",
       "    <tr>\n",
       "      <th>9</th>\n",
       "      <td>22</td>\n",
       "      <td>People &amp; Blogs</td>\n",
       "    </tr>\n",
       "    <tr>\n",
       "      <th>10</th>\n",
       "      <td>23</td>\n",
       "      <td>Comedy</td>\n",
       "    </tr>\n",
       "    <tr>\n",
       "      <th>11</th>\n",
       "      <td>24</td>\n",
       "      <td>Entertainment</td>\n",
       "    </tr>\n",
       "    <tr>\n",
       "      <th>12</th>\n",
       "      <td>25</td>\n",
       "      <td>News &amp; Politics</td>\n",
       "    </tr>\n",
       "    <tr>\n",
       "      <th>13</th>\n",
       "      <td>26</td>\n",
       "      <td>Howto &amp; Style</td>\n",
       "    </tr>\n",
       "    <tr>\n",
       "      <th>14</th>\n",
       "      <td>27</td>\n",
       "      <td>Education</td>\n",
       "    </tr>\n",
       "    <tr>\n",
       "      <th>15</th>\n",
       "      <td>28</td>\n",
       "      <td>Science &amp; Technology</td>\n",
       "    </tr>\n",
       "    <tr>\n",
       "      <th>16</th>\n",
       "      <td>30</td>\n",
       "      <td>Movies</td>\n",
       "    </tr>\n",
       "    <tr>\n",
       "      <th>17</th>\n",
       "      <td>31</td>\n",
       "      <td>Anime/Animation</td>\n",
       "    </tr>\n",
       "    <tr>\n",
       "      <th>18</th>\n",
       "      <td>32</td>\n",
       "      <td>Action/Adventure</td>\n",
       "    </tr>\n",
       "    <tr>\n",
       "      <th>19</th>\n",
       "      <td>33</td>\n",
       "      <td>Classics</td>\n",
       "    </tr>\n",
       "    <tr>\n",
       "      <th>20</th>\n",
       "      <td>34</td>\n",
       "      <td>Comedy</td>\n",
       "    </tr>\n",
       "    <tr>\n",
       "      <th>21</th>\n",
       "      <td>35</td>\n",
       "      <td>Documentary</td>\n",
       "    </tr>\n",
       "    <tr>\n",
       "      <th>22</th>\n",
       "      <td>36</td>\n",
       "      <td>Drama</td>\n",
       "    </tr>\n",
       "    <tr>\n",
       "      <th>23</th>\n",
       "      <td>37</td>\n",
       "      <td>Family</td>\n",
       "    </tr>\n",
       "    <tr>\n",
       "      <th>24</th>\n",
       "      <td>38</td>\n",
       "      <td>Foreign</td>\n",
       "    </tr>\n",
       "    <tr>\n",
       "      <th>25</th>\n",
       "      <td>39</td>\n",
       "      <td>Horror</td>\n",
       "    </tr>\n",
       "    <tr>\n",
       "      <th>26</th>\n",
       "      <td>40</td>\n",
       "      <td>Sci-Fi/Fantasy</td>\n",
       "    </tr>\n",
       "    <tr>\n",
       "      <th>27</th>\n",
       "      <td>41</td>\n",
       "      <td>Thriller</td>\n",
       "    </tr>\n",
       "    <tr>\n",
       "      <th>28</th>\n",
       "      <td>42</td>\n",
       "      <td>Shorts</td>\n",
       "    </tr>\n",
       "    <tr>\n",
       "      <th>29</th>\n",
       "      <td>43</td>\n",
       "      <td>Shows</td>\n",
       "    </tr>\n",
       "    <tr>\n",
       "      <th>30</th>\n",
       "      <td>44</td>\n",
       "      <td>Trailers</td>\n",
       "    </tr>\n",
       "    <tr>\n",
       "      <th>295</th>\n",
       "      <td>29</td>\n",
       "      <td>Nonprofits &amp; Activism</td>\n",
       "    </tr>\n",
       "  </tbody>\n",
       "</table>\n",
       "</div>"
      ],
      "text/plain": [
       "     id          snippet.title\n",
       "0     1       Film & Animation\n",
       "1     2       Autos & Vehicles\n",
       "2    10                  Music\n",
       "3    15         Pets & Animals\n",
       "4    17                 Sports\n",
       "5    18           Short Movies\n",
       "6    19        Travel & Events\n",
       "7    20                 Gaming\n",
       "8    21          Videoblogging\n",
       "9    22         People & Blogs\n",
       "10   23                 Comedy\n",
       "11   24          Entertainment\n",
       "12   25        News & Politics\n",
       "13   26          Howto & Style\n",
       "14   27              Education\n",
       "15   28   Science & Technology\n",
       "16   30                 Movies\n",
       "17   31        Anime/Animation\n",
       "18   32       Action/Adventure\n",
       "19   33               Classics\n",
       "20   34                 Comedy\n",
       "21   35            Documentary\n",
       "22   36                  Drama\n",
       "23   37                 Family\n",
       "24   38                Foreign\n",
       "25   39                 Horror\n",
       "26   40         Sci-Fi/Fantasy\n",
       "27   41               Thriller\n",
       "28   42                 Shorts\n",
       "29   43                  Shows\n",
       "30   44               Trailers\n",
       "295  29  Nonprofits & Activism"
      ]
     },
     "execution_count": 16,
     "metadata": {},
     "output_type": "execute_result"
    }
   ],
   "source": [
    "Js_category"
   ]
  },
  {
   "cell_type": "code",
   "execution_count": 17,
   "metadata": {},
   "outputs": [
    {
     "name": "stdout",
     "output_type": "stream",
     "text": [
      "<class 'pandas.core.frame.DataFrame'>\n",
      "Int64Index: 32 entries, 0 to 295\n",
      "Data columns (total 2 columns):\n",
      " #   Column         Non-Null Count  Dtype \n",
      "---  ------         --------------  ----- \n",
      " 0   id             32 non-null     object\n",
      " 1   snippet.title  32 non-null     object\n",
      "dtypes: object(2)\n",
      "memory usage: 768.0+ bytes\n"
     ]
    }
   ],
   "source": [
    "# Obtendo as informações do DataFrame\n",
    "Js_category.info()"
   ]
  },
  {
   "cell_type": "code",
   "execution_count": 18,
   "metadata": {},
   "outputs": [],
   "source": [
    "# Alteração do tipo da coluna 'id' de string para inteiro\n",
    "Js_category.id = Js_category.id .astype(np.int64)"
   ]
  },
  {
   "cell_type": "code",
   "execution_count": 19,
   "metadata": {},
   "outputs": [
    {
     "data": {
      "text/html": [
       "<div>\n",
       "<style scoped>\n",
       "    .dataframe tbody tr th:only-of-type {\n",
       "        vertical-align: middle;\n",
       "    }\n",
       "\n",
       "    .dataframe tbody tr th {\n",
       "        vertical-align: top;\n",
       "    }\n",
       "\n",
       "    .dataframe thead th {\n",
       "        text-align: right;\n",
       "    }\n",
       "</style>\n",
       "<table border=\"1\" class=\"dataframe\">\n",
       "  <thead>\n",
       "    <tr style=\"text-align: right;\">\n",
       "      <th></th>\n",
       "      <th>snippet.title</th>\n",
       "    </tr>\n",
       "    <tr>\n",
       "      <th>id</th>\n",
       "      <th></th>\n",
       "    </tr>\n",
       "  </thead>\n",
       "  <tbody>\n",
       "    <tr>\n",
       "      <th>1</th>\n",
       "      <td>Film &amp; Animation</td>\n",
       "    </tr>\n",
       "    <tr>\n",
       "      <th>2</th>\n",
       "      <td>Autos &amp; Vehicles</td>\n",
       "    </tr>\n",
       "    <tr>\n",
       "      <th>10</th>\n",
       "      <td>Music</td>\n",
       "    </tr>\n",
       "    <tr>\n",
       "      <th>15</th>\n",
       "      <td>Pets &amp; Animals</td>\n",
       "    </tr>\n",
       "    <tr>\n",
       "      <th>17</th>\n",
       "      <td>Sports</td>\n",
       "    </tr>\n",
       "    <tr>\n",
       "      <th>18</th>\n",
       "      <td>Short Movies</td>\n",
       "    </tr>\n",
       "    <tr>\n",
       "      <th>19</th>\n",
       "      <td>Travel &amp; Events</td>\n",
       "    </tr>\n",
       "    <tr>\n",
       "      <th>20</th>\n",
       "      <td>Gaming</td>\n",
       "    </tr>\n",
       "    <tr>\n",
       "      <th>21</th>\n",
       "      <td>Videoblogging</td>\n",
       "    </tr>\n",
       "    <tr>\n",
       "      <th>22</th>\n",
       "      <td>People &amp; Blogs</td>\n",
       "    </tr>\n",
       "    <tr>\n",
       "      <th>23</th>\n",
       "      <td>Comedy</td>\n",
       "    </tr>\n",
       "    <tr>\n",
       "      <th>24</th>\n",
       "      <td>Entertainment</td>\n",
       "    </tr>\n",
       "    <tr>\n",
       "      <th>25</th>\n",
       "      <td>News &amp; Politics</td>\n",
       "    </tr>\n",
       "    <tr>\n",
       "      <th>26</th>\n",
       "      <td>Howto &amp; Style</td>\n",
       "    </tr>\n",
       "    <tr>\n",
       "      <th>27</th>\n",
       "      <td>Education</td>\n",
       "    </tr>\n",
       "    <tr>\n",
       "      <th>28</th>\n",
       "      <td>Science &amp; Technology</td>\n",
       "    </tr>\n",
       "    <tr>\n",
       "      <th>29</th>\n",
       "      <td>Nonprofits &amp; Activism</td>\n",
       "    </tr>\n",
       "    <tr>\n",
       "      <th>30</th>\n",
       "      <td>Movies</td>\n",
       "    </tr>\n",
       "    <tr>\n",
       "      <th>31</th>\n",
       "      <td>Anime/Animation</td>\n",
       "    </tr>\n",
       "    <tr>\n",
       "      <th>32</th>\n",
       "      <td>Action/Adventure</td>\n",
       "    </tr>\n",
       "    <tr>\n",
       "      <th>33</th>\n",
       "      <td>Classics</td>\n",
       "    </tr>\n",
       "    <tr>\n",
       "      <th>34</th>\n",
       "      <td>Comedy</td>\n",
       "    </tr>\n",
       "    <tr>\n",
       "      <th>35</th>\n",
       "      <td>Documentary</td>\n",
       "    </tr>\n",
       "    <tr>\n",
       "      <th>36</th>\n",
       "      <td>Drama</td>\n",
       "    </tr>\n",
       "    <tr>\n",
       "      <th>37</th>\n",
       "      <td>Family</td>\n",
       "    </tr>\n",
       "    <tr>\n",
       "      <th>38</th>\n",
       "      <td>Foreign</td>\n",
       "    </tr>\n",
       "    <tr>\n",
       "      <th>39</th>\n",
       "      <td>Horror</td>\n",
       "    </tr>\n",
       "    <tr>\n",
       "      <th>40</th>\n",
       "      <td>Sci-Fi/Fantasy</td>\n",
       "    </tr>\n",
       "    <tr>\n",
       "      <th>41</th>\n",
       "      <td>Thriller</td>\n",
       "    </tr>\n",
       "    <tr>\n",
       "      <th>42</th>\n",
       "      <td>Shorts</td>\n",
       "    </tr>\n",
       "    <tr>\n",
       "      <th>43</th>\n",
       "      <td>Shows</td>\n",
       "    </tr>\n",
       "    <tr>\n",
       "      <th>44</th>\n",
       "      <td>Trailers</td>\n",
       "    </tr>\n",
       "  </tbody>\n",
       "</table>\n",
       "</div>"
      ],
      "text/plain": [
       "            snippet.title\n",
       "id                       \n",
       "1        Film & Animation\n",
       "2        Autos & Vehicles\n",
       "10                  Music\n",
       "15         Pets & Animals\n",
       "17                 Sports\n",
       "18           Short Movies\n",
       "19        Travel & Events\n",
       "20                 Gaming\n",
       "21          Videoblogging\n",
       "22         People & Blogs\n",
       "23                 Comedy\n",
       "24          Entertainment\n",
       "25        News & Politics\n",
       "26          Howto & Style\n",
       "27              Education\n",
       "28   Science & Technology\n",
       "29  Nonprofits & Activism\n",
       "30                 Movies\n",
       "31        Anime/Animation\n",
       "32       Action/Adventure\n",
       "33               Classics\n",
       "34                 Comedy\n",
       "35            Documentary\n",
       "36                  Drama\n",
       "37                 Family\n",
       "38                Foreign\n",
       "39                 Horror\n",
       "40         Sci-Fi/Fantasy\n",
       "41               Thriller\n",
       "42                 Shorts\n",
       "43                  Shows\n",
       "44               Trailers"
      ]
     },
     "execution_count": 19,
     "metadata": {},
     "output_type": "execute_result"
    }
   ],
   "source": [
    "# Ordenando o DataFrame e colocando a coluna id como index\n",
    "Js_category.sort_values('id', ascending=True).set_index('id')"
   ]
  },
  {
   "cell_type": "code",
   "execution_count": 20,
   "metadata": {},
   "outputs": [
    {
     "name": "stdout",
     "output_type": "stream",
     "text": [
      "<class 'pandas.core.frame.DataFrame'>\n",
      "Int64Index: 32 entries, 0 to 295\n",
      "Data columns (total 2 columns):\n",
      " #   Column         Non-Null Count  Dtype \n",
      "---  ------         --------------  ----- \n",
      " 0   id             32 non-null     int64 \n",
      " 1   snippet.title  32 non-null     object\n",
      "dtypes: int64(1), object(1)\n",
      "memory usage: 768.0+ bytes\n"
     ]
    }
   ],
   "source": [
    "# Obtendo as informações do DataFrame\n",
    "Js_category.info()"
   ]
  },
  {
   "cell_type": "code",
   "execution_count": 21,
   "metadata": {},
   "outputs": [],
   "source": [
    "Js_category = Js_category.rename(columns={\"id\":\"category_id\", \"snippet.title\":\"snippet_title\"})"
   ]
  },
  {
   "cell_type": "code",
   "execution_count": 22,
   "metadata": {},
   "outputs": [
    {
     "data": {
      "text/html": [
       "<div>\n",
       "<style scoped>\n",
       "    .dataframe tbody tr th:only-of-type {\n",
       "        vertical-align: middle;\n",
       "    }\n",
       "\n",
       "    .dataframe tbody tr th {\n",
       "        vertical-align: top;\n",
       "    }\n",
       "\n",
       "    .dataframe thead th {\n",
       "        text-align: right;\n",
       "    }\n",
       "</style>\n",
       "<table border=\"1\" class=\"dataframe\">\n",
       "  <thead>\n",
       "    <tr style=\"text-align: right;\">\n",
       "      <th></th>\n",
       "      <th>category_id</th>\n",
       "      <th>snippet_title</th>\n",
       "    </tr>\n",
       "  </thead>\n",
       "  <tbody>\n",
       "    <tr>\n",
       "      <th>0</th>\n",
       "      <td>1</td>\n",
       "      <td>Film &amp; Animation</td>\n",
       "    </tr>\n",
       "    <tr>\n",
       "      <th>1</th>\n",
       "      <td>2</td>\n",
       "      <td>Autos &amp; Vehicles</td>\n",
       "    </tr>\n",
       "    <tr>\n",
       "      <th>2</th>\n",
       "      <td>10</td>\n",
       "      <td>Music</td>\n",
       "    </tr>\n",
       "    <tr>\n",
       "      <th>3</th>\n",
       "      <td>15</td>\n",
       "      <td>Pets &amp; Animals</td>\n",
       "    </tr>\n",
       "    <tr>\n",
       "      <th>4</th>\n",
       "      <td>17</td>\n",
       "      <td>Sports</td>\n",
       "    </tr>\n",
       "  </tbody>\n",
       "</table>\n",
       "</div>"
      ],
      "text/plain": [
       "   category_id     snippet_title\n",
       "0            1  Film & Animation\n",
       "1            2  Autos & Vehicles\n",
       "2           10             Music\n",
       "3           15    Pets & Animals\n",
       "4           17            Sports"
      ]
     },
     "execution_count": 22,
     "metadata": {},
     "output_type": "execute_result"
    }
   ],
   "source": [
    "Js_category.head(5)"
   ]
  },
  {
   "cell_type": "code",
   "execution_count": 23,
   "metadata": {},
   "outputs": [],
   "source": [
    "# Salvando o arquivo final \"category.csv\" no diretório:\n",
    "Js_category.to_csv(\"Dados/category.csv\", index=False)"
   ]
  },
  {
   "cell_type": "markdown",
   "metadata": {},
   "source": [
    "### Importing files and joining two DataFrames"
   ]
  },
  {
   "cell_type": "code",
   "execution_count": 26,
   "metadata": {},
   "outputs": [
    {
     "name": "stdout",
     "output_type": "stream",
     "text": [
      "(32, 2)\n"
     ]
    }
   ],
   "source": [
    "# Leitura do arquivo .csv do diretório \n",
    "arquivo = \"Dados/category.csv\"\n",
    "df_category = read_csv(arquivo, encoding ='utf-8')\n",
    "print(df_category.shape)"
   ]
  },
  {
   "cell_type": "code",
   "execution_count": 36,
   "metadata": {},
   "outputs": [],
   "source": [
    "# Unindo o dataFrame pela coluna 'category_id' para obter o título da categoria\n",
    "df_dados = pd.merge(dadosCsv,df_category, how='left', on='category_id')"
   ]
  },
  {
   "cell_type": "code",
   "execution_count": 37,
   "metadata": {},
   "outputs": [
    {
     "data": {
      "text/plain": [
       "Index(['Unnamed: 0', 'video_id', 'trending_date', 'title', 'channel_title',\n",
       "       'category_id', 'publish_time', 'tags', 'views', 'likes', 'dislikes',\n",
       "       'comment_count', 'thumbnail_link', 'comments_disabled',\n",
       "       'ratings_disabled', 'video_error_or_removed', 'description',\n",
       "       'snippet_title'],\n",
       "      dtype='object')"
      ]
     },
     "execution_count": 37,
     "metadata": {},
     "output_type": "execute_result"
    }
   ],
   "source": [
    "# Obtendo os nomes das colunas\n",
    "df_dados.columns"
   ]
  },
  {
   "cell_type": "code",
   "execution_count": 38,
   "metadata": {},
   "outputs": [],
   "source": [
    "df_dados = df_dados.drop(['Unnamed: 0', 'thumbnail_link', 'comments_disabled','ratings_disabled', 'video_error_or_removed'], axis=1)"
   ]
  },
  {
   "cell_type": "code",
   "execution_count": 39,
   "metadata": {},
   "outputs": [
    {
     "data": {
      "text/plain": [
       "(334993, 14)"
      ]
     },
     "execution_count": 39,
     "metadata": {},
     "output_type": "execute_result"
    }
   ],
   "source": [
    "df_dados.shape"
   ]
  },
  {
   "cell_type": "code",
   "execution_count": 43,
   "metadata": {},
   "outputs": [],
   "source": [
    "# Organizando as colunas do DataFrame de acordo com a lista\n",
    "columnsTitles = ['video_id', 'category_id', 'snippet_title','channel_title',  'title', 'trending_date', 'publish_time', 'views', 'likes', 'dislikes', 'comment_count','tags', 'description']\n",
    "\n",
    "df_dados = df_dados.reindex(columns=columnsTitles)"
   ]
  },
  {
   "cell_type": "code",
   "execution_count": 47,
   "metadata": {},
   "outputs": [
    {
     "data": {
      "text/html": [
       "<div>\n",
       "<style scoped>\n",
       "    .dataframe tbody tr th:only-of-type {\n",
       "        vertical-align: middle;\n",
       "    }\n",
       "\n",
       "    .dataframe tbody tr th {\n",
       "        vertical-align: top;\n",
       "    }\n",
       "\n",
       "    .dataframe thead th {\n",
       "        text-align: right;\n",
       "    }\n",
       "</style>\n",
       "<table border=\"1\" class=\"dataframe\">\n",
       "  <thead>\n",
       "    <tr style=\"text-align: right;\">\n",
       "      <th></th>\n",
       "      <th>video_id</th>\n",
       "      <th>category_id</th>\n",
       "      <th>snippet_title</th>\n",
       "      <th>channel_title</th>\n",
       "      <th>title</th>\n",
       "      <th>trending_date</th>\n",
       "      <th>publish_time</th>\n",
       "      <th>views</th>\n",
       "      <th>likes</th>\n",
       "      <th>dislikes</th>\n",
       "      <th>comment_count</th>\n",
       "      <th>tags</th>\n",
       "      <th>description</th>\n",
       "    </tr>\n",
       "  </thead>\n",
       "  <tbody>\n",
       "    <tr>\n",
       "      <th>0</th>\n",
       "      <td>n1WpP7iowLc</td>\n",
       "      <td>10</td>\n",
       "      <td>Music</td>\n",
       "      <td>EminemVEVO</td>\n",
       "      <td>Eminem - Walk On Water (Audio) ft. BeyoncÃ©</td>\n",
       "      <td>17.14.11</td>\n",
       "      <td>2017-11-10T17:00:03.000Z</td>\n",
       "      <td>17158579</td>\n",
       "      <td>787425</td>\n",
       "      <td>43420</td>\n",
       "      <td>125882</td>\n",
       "      <td>Eminem|\"Walk\"|\"On\"|\"Water\"|\"Aftermath/Shady/In...</td>\n",
       "      <td>Eminem's new track Walk on Water ft. BeyoncÃ© ...</td>\n",
       "    </tr>\n",
       "    <tr>\n",
       "      <th>1</th>\n",
       "      <td>0dBIkQ4Mz1M</td>\n",
       "      <td>23</td>\n",
       "      <td>Comedy</td>\n",
       "      <td>iDubbbzTV</td>\n",
       "      <td>PLUSH - Bad Unboxing Fan Mail</td>\n",
       "      <td>17.14.11</td>\n",
       "      <td>2017-11-13T17:00:00.000Z</td>\n",
       "      <td>1014651</td>\n",
       "      <td>127794</td>\n",
       "      <td>1688</td>\n",
       "      <td>13030</td>\n",
       "      <td>plush|\"bad unboxing\"|\"unboxing\"|\"fan mail\"|\"id...</td>\n",
       "      <td>STill got a lot of packages. Probably will las...</td>\n",
       "    </tr>\n",
       "  </tbody>\n",
       "</table>\n",
       "</div>"
      ],
      "text/plain": [
       "      video_id  category_id snippet_title channel_title  \\\n",
       "0  n1WpP7iowLc           10         Music    EminemVEVO   \n",
       "1  0dBIkQ4Mz1M           23        Comedy     iDubbbzTV   \n",
       "\n",
       "                                         title trending_date  \\\n",
       "0  Eminem - Walk On Water (Audio) ft. BeyoncÃ©      17.14.11   \n",
       "1                PLUSH - Bad Unboxing Fan Mail      17.14.11   \n",
       "\n",
       "               publish_time     views   likes  dislikes  comment_count  \\\n",
       "0  2017-11-10T17:00:03.000Z  17158579  787425     43420         125882   \n",
       "1  2017-11-13T17:00:00.000Z   1014651  127794      1688          13030   \n",
       "\n",
       "                                                tags  \\\n",
       "0  Eminem|\"Walk\"|\"On\"|\"Water\"|\"Aftermath/Shady/In...   \n",
       "1  plush|\"bad unboxing\"|\"unboxing\"|\"fan mail\"|\"id...   \n",
       "\n",
       "                                         description  \n",
       "0  Eminem's new track Walk on Water ft. BeyoncÃ© ...  \n",
       "1  STill got a lot of packages. Probably will las...  "
      ]
     },
     "execution_count": 47,
     "metadata": {},
     "output_type": "execute_result"
    }
   ],
   "source": [
    "df_dados.head(2)"
   ]
  },
  {
   "cell_type": "markdown",
   "metadata": {},
   "source": [
    "## Feature Engenieering "
   ]
  },
  {
   "cell_type": "markdown",
   "metadata": {},
   "source": [
    "## Exploratory Data Analysis"
   ]
  },
  {
   "cell_type": "code",
   "execution_count": 46,
   "metadata": {},
   "outputs": [
    {
     "data": {
      "text/plain": [
       "Entertainment            99042\n",
       "People & Blogs           50842\n",
       "Music                    36042\n",
       "News & Politics          34801\n",
       "Comedy                   23513\n",
       "Sports                   21510\n",
       "Film & Animation         18587\n",
       "Howto & Style            14710\n",
       "Gaming                   10681\n",
       "Education                 6132\n",
       "Science & Technology      5770\n",
       "Autos & Vehicles          4350\n",
       "Pets & Animals            3943\n",
       "Nonprofits & Activism     2738\n",
       "Travel & Events           1374\n",
       "Shows                      917\n",
       "Movies                      36\n",
       "Trailers                     5\n",
       "Name: snippet_title, dtype: int64"
      ]
     },
     "execution_count": 46,
     "metadata": {},
     "output_type": "execute_result"
    }
   ],
   "source": [
    "df_dados['snippet_title'].value_counts()"
   ]
  },
  {
   "cell_type": "markdown",
   "metadata": {},
   "source": [
    "## PLots"
   ]
  },
  {
   "cell_type": "markdown",
   "metadata": {},
   "source": [
    "### Qual a categoria de vídeo tem maior visaulizações?"
   ]
  },
  {
   "cell_type": "code",
   "execution_count": null,
   "metadata": {},
   "outputs": [],
   "source": [
    "# Agrupamentos\n",
    "agg_views = (dados.groupby([\"snippet_title\"]).sum()[\"views\"])/10000000\n",
    "agg_likes = (dados.groupby([\"snippet_title\"]).sum()[\"likes\"])/10000000\n",
    "agg_dislikes = (dados.groupby([\"snippet_title\"]).sum()[\"dislikes\"])/10000000\n",
    "count_all = (dados.sum()[\"views\"])/10000000\n",
    "perc_views = (agg_views / count_all)*100\n",
    "\n",
    "# Dataframe para os resultados\n",
    "pd.options.display.float_format = '{:,.2f}'.format \n",
    "summary = pd.DataFrame({\"Total_Views\":agg_views,\n",
    "                        \"%_Views\" : perc_views,\n",
    "                        \"Total_Likes\":agg_likes,\n",
    "                        \"Total_Dislikes\" : agg_dislikes})\n",
    "\n",
    "\n",
    "# Data Munging\n",
    "#summary = summary.round(2)\n",
    "#summary[\"Total_Views\"] = summary[\"Total_Views\"].map(\"{:,.2f}\".format)\n",
    "#summary_format = summary.loc[:, [\"Número Viagens\",\"Número de diárias\", \"Valor Total\"]]\n",
    "sumary = summary.sort_values(by = 'Total_Views', ascending = False)\n",
    "summary[\"%_Views\"] = summary[\"%_Views\"].map(\"{:,.2f}%\".format)             "
   ]
  },
  {
   "cell_type": "code",
   "execution_count": null,
   "metadata": {},
   "outputs": [],
   "source": [
    "sumary"
   ]
  },
  {
   "cell_type": "code",
   "execution_count": null,
   "metadata": {},
   "outputs": [],
   "source": [
    "# Gráfico da uantidade de visializações por milhão\n",
    "plt.figure(figsize=(20,20))\n",
    "tot_view_gs = mpl.gridspec.GridSpec(1, 1)\n",
    "fig, ax = plt.subplots()\n",
    "\n",
    "quant = sumary['Total_Views']\n",
    "\n",
    "nomes = [ 'Music','Entertainment','Comedy','People & Blogs', 'Sports','Film & Animation','News & Politics','Gaming','Howto & Style','Nonprofits & Activism','Science & Technology', 'Pets & Animals',\n",
    "        'Autos & Vehicles', 'Education','Shows','Travel & Events']\n",
    "colors = ['LightSlateGray']\n",
    "ax.grid(color='#808080', linestyle='--', linewidth=0.5)\n",
    "ax.barh(nomes, quant, color= colors)\n",
    "ax.set_xlabel(\"\", color = '#F5F5DC', fontsize=18)\n",
    "ax.set_ylabel('Categorias', color = 'white', fontsize=12)\n",
    "ax.set_title('Quantidade de visializações por milhão', fontsize=12, color = 'white')\n",
    "\n",
    "plt.show()"
   ]
  },
  {
   "cell_type": "markdown",
   "metadata": {},
   "source": [
    "### Qual categoria tem mais likes? "
   ]
  },
  {
   "cell_type": "code",
   "execution_count": null,
   "metadata": {
    "scrolled": true
   },
   "outputs": [],
   "source": [
    "# Gráfico de Total de Likes - milhões\n",
    "plt.figure(figsize=(20,20))\n",
    "fig, ax = plt.subplots()\n",
    "\n",
    "quant = sumary['Total_Likes']\n",
    "\n",
    "nomes = [ 'Music','Entertainment','Comedy','People & Blogs', 'Sports','Film & Animation','News & Politics','Gaming','Howto & Style','Nonprofits & Activism','Science & Technology', 'Pets & Animals',\n",
    "        'Autos & Vehicles', 'Education','Shows','Travel & Events']\n",
    "colors = ['LightSlateGray']\n",
    "ax.grid(color='#808080', linestyle='--', linewidth=0.5)\n",
    "ax.barh(nomes, quant, color= colors)\n",
    "ax.set_xlabel(\"\", color = '#F5F5DC', fontsize=18)\n",
    "ax.set_ylabel('Categorias', color = 'white', fontsize=12)\n",
    "ax.set_title('Total de Likes - milhões', fontsize=12, color = 'white')\n",
    "\n",
    "plt.show()"
   ]
  },
  {
   "cell_type": "markdown",
   "metadata": {},
   "source": [
    "### Qual categoria tem mais dislikes? "
   ]
  },
  {
   "cell_type": "code",
   "execution_count": null,
   "metadata": {},
   "outputs": [],
   "source": [
    "# Gráfico da quantidade de deputados por região\n",
    "plt.figure(figsize=(20,20))\n",
    "fig, ax = plt.subplots()\n",
    "\n",
    "quant = sumary['Total_Dislikes']\n",
    "\n",
    "nomes = [ 'Music','Entertainment','Comedy','People & Blogs', 'Sports','Film & Animation','News & Politics','Gaming','Howto & Style','Nonprofits & Activism','Science & Technology', 'Pets & Animals',\n",
    "        'Autos & Vehicles', 'Education','Shows','Travel & Events']\n",
    "colors = ['LightSlateGray']\n",
    "ax.grid(color='#808080', linestyle='--', linewidth=0.5)\n",
    "ax.barh(nomes, quant, color= colors)\n",
    "ax.set_xlabel(\"\", color = '#F5F5DC', fontsize=18)\n",
    "ax.set_ylabel('Categorias', color = 'white', fontsize=12)\n",
    "ax.set_title('Total de Dislikes - milhões', fontsize=12, color = 'white')\n",
    "\n",
    "plt.show()"
   ]
  },
  {
   "cell_type": "markdown",
   "metadata": {},
   "source": [
    "### Qual o dia de maior vizualização?"
   ]
  },
  {
   "cell_type": "code",
   "execution_count": null,
   "metadata": {},
   "outputs": [],
   "source": [
    "# Agrupamentos\n",
    "day_views = (dados.groupby([\"ind_day\"]).sum()[\"views\"])/10000000\n",
    "day_likes = (dados.groupby([\"ind_day\"]).sum()[\"likes\"])/10000000\n",
    "day_dislikes = (dados.groupby([\"ind_day\"]).sum()[\"dislikes\"])/10000000\n",
    "day_better = dados.groupby([\"ind_day\"]).mean()[\"time_up\"]\n",
    "count_all = dados.sum()[\"views\"]/10000000\n",
    "perc_days_views = (day_views / count_all)*100\n",
    "\n",
    "# Dataframe para os resultados\n",
    "pd.options.display.float_format = '{:,.1f}'.format \n",
    "summary_days = pd.DataFrame({\"DaysViews\": day_views,\n",
    "                             \"DaysLikes\": day_likes,\n",
    "                             \"DaysDislikes\": day_dislikes,\n",
    "                             \"DayBetter\": day_better,\n",
    "                             \"%DayViews\" : perc_days_views})\n",
    "\n",
    "\n",
    "# Data Munging\n",
    "summary = summary.round(2)\n",
    "#summary_days[\"%DayViews\"] = summary_days[\"%DayViews\"].map(\"{:,.2f}\".format)\n",
    "#summary_format = summary.loc[:, [\"Número Viagens\",\"Número de diárias\", \"Valor Total\"]]\n",
    "summary_days = summary_days.sort_values(by = 'ind_day', ascending = True)\n",
    "summary_days "
   ]
  },
  {
   "cell_type": "code",
   "execution_count": null,
   "metadata": {},
   "outputs": [],
   "source": [
    "summary_days.reset_index()"
   ]
  },
  {
   "cell_type": "code",
   "execution_count": null,
   "metadata": {},
   "outputs": [],
   "source": [
    "fig, ax = plt.subplots()\n",
    "plt.figure(figsize = (12,8))\n",
    "\n",
    "quant = summary_days['DaysViews']\n",
    "nomes = ['Segunda','Terça','Quarta','Quinta', 'Sexta', 'Sábado', 'Domingo']\n",
    "colors = ['LightSlateGray']\n",
    "ax.grid(color='#D3D3D3', linestyle='--', linewidth=0.2)\n",
    "ax.bar(nomes,quant, color= colors)\n",
    "ax.set_ylabel('Por milhão', color = 'white', fontsize=10)\n",
    "ax.set_title('Total de Visializações - milhões/dia', fontsize=12, color = 'white')"
   ]
  },
  {
   "cell_type": "code",
   "execution_count": null,
   "metadata": {},
   "outputs": [],
   "source": [
    "fig, ax = plt.subplots()\n",
    "plt.figure(figsize = (12,8))\n",
    "\n",
    "quant = summary_days['DaysLikes']\n",
    "nomes = ['Segunda','Terça','Quarta','Quinta', 'Sexta', 'Sábado', 'Domingo']\n",
    "colors = ['LightSlateGray']\n",
    "ax.grid(color='#D3D3D3', linestyle='--', linewidth=0.2)\n",
    "ax.bar(nomes,quant, color= colors)\n",
    "ax.set_ylabel('Por milhão', color = 'white', fontsize=10)\n",
    "ax.set_title('Total de Likes - milhões/dia', fontsize=12, color = 'white')"
   ]
  },
  {
   "cell_type": "code",
   "execution_count": null,
   "metadata": {},
   "outputs": [],
   "source": [
    "fig, ax = plt.subplots()\n",
    "plt.figure(figsize = (12,8))\n",
    "\n",
    "quant = summary_days['DaysDislikes']\n",
    "nomes = ['Segunda','Terça','Quarta','Quinta', 'Sexta', 'Sábado', 'Domingo']\n",
    "colors = ['LightSlateGray']\n",
    "ax.grid(color='#D3D3D3', linestyle='--', linewidth=0.2)\n",
    "ax.bar(nomes,quant, color= colors)\n",
    "ax.set_ylabel('Por milhão', color = 'white', fontsize=10)\n",
    "ax.set_title('Total de Dislikes - milhões/dia', fontsize=12, color = 'white')"
   ]
  },
  {
   "cell_type": "markdown",
   "metadata": {},
   "source": [
    "### Em média quantos dias um vídeo vira tendência?"
   ]
  },
  {
   "cell_type": "code",
   "execution_count": null,
   "metadata": {},
   "outputs": [],
   "source": [
    "fig, ax = plt.subplots()\n",
    "plt.figure(figsize = (12,4))\n",
    "\n",
    "quant = summary_days['DayBetter']\n",
    "nomes = ['Segunda','Terça','Quarta','Quinta', 'Sexta', 'Sábado', 'Domingo']\n",
    "colors = ['LightSlateGray']\n",
    "ax.grid(color='#D3D3D3', linestyle='--', linewidth=0.5)\n",
    "ax.bar(nomes,quant, color= colors)\n",
    "ax.set_ylabel('Quantidade', color='white')\n",
    "ax.set_title('Média de dias que o vídeo viraliza', color='white')\n",
    "\n",
    "plt.show()"
   ]
  },
  {
   "cell_type": "markdown",
   "metadata": {},
   "source": [
    "### Em média quantos dias um vídeo vira tendência?"
   ]
  },
  {
   "cell_type": "code",
   "execution_count": null,
   "metadata": {},
   "outputs": [],
   "source": [
    "pd.options.display.float_format = '{:,.1f}'.format \n",
    "day_mean = dados.groupby([\"snippet_title\"]).mean()[\"time_up\"]\n",
    "dayUp_mean = pd.DataFrame({\"MeanDayUp\": day_mean})\n",
    "dayUp_mean = dayUp_mean.sort_values(by = 'MeanDayUp', ascending = True)\n",
    "dayUp_mean"
   ]
  },
  {
   "cell_type": "code",
   "execution_count": null,
   "metadata": {},
   "outputs": [],
   "source": [
    "Qual o dia de maior vizualização?\n",
    "O dia em que o vídeo a publicado influência para que o vídeo vire tendência mais rápido?\n",
    "Em média quantos dias um vídeo vira tendência?\n",
    "Em média qual categoria tem mais likes e dislikes? "
   ]
  },
  {
   "cell_type": "code",
   "execution_count": null,
   "metadata": {},
   "outputs": [],
   "source": [
    "#.sort_values(by = option.value, ascending = False)\n",
    "fig, ax = plt.subplots()\n",
    "\n",
    "num_bins = 100\n",
    "\n",
    "dayUp_mean.plot.kde(ax=ax, legend=False,color='red', title='Histogram:')\n",
    "\n",
    "bins = dayUp_mean.plot.hist(num_bins, density=True, ax=ax)\n",
    "ax.set_ylabel('MeanDayUp',color='#D3D3D3')\n",
    "ax.grid(axis='MeanDayUp',color='#D3D3D3')\n",
    "ax.set_facecolor(color='#D3D3D3')\n",
    "\n",
    "# Tweak spacing to prevent clipping of ylabel\n",
    "fig.tight_layout()\n",
    "plt.show()"
   ]
  },
  {
   "cell_type": "markdown",
   "metadata": {},
   "source": [
    "### correlação"
   ]
  },
  {
   "cell_type": "code",
   "execution_count": null,
   "metadata": {},
   "outputs": [],
   "source": []
  },
  {
   "cell_type": "code",
   "execution_count": null,
   "metadata": {},
   "outputs": [],
   "source": [
    "dados2 = dados.set_index('publish_date')\n",
    "dados2.head(2)"
   ]
  },
  {
   "cell_type": "code",
   "execution_count": null,
   "metadata": {},
   "outputs": [],
   "source": []
  },
  {
   "cell_type": "code",
   "execution_count": null,
   "metadata": {},
   "outputs": [],
   "source": [
    "sns.heatmap(dados.isnull(),\n",
    "           yticklabels=True,\n",
    "           cbar=False,\n",
    "           cmap='viridis')"
   ]
  },
  {
   "cell_type": "code",
   "execution_count": null,
   "metadata": {},
   "outputs": [],
   "source": [
    "# Visualizações por dia da semana\n",
    "ax = sns.boxplot(x=\"name_day\",\n",
    "           y='views',\n",
    "           data=dados,\n",
    "           orient=\"h\",\n",
    "           order=[\"Dinner\", \"Lunch\"],\n",
    "           palette='winter')"
   ]
  },
  {
   "cell_type": "code",
   "execution_count": null,
   "metadata": {},
   "outputs": [],
   "source": [
    "# Comparação de visualizações entre final de semana e dia da semana\n",
    "ax = sns.boxplot(x=\"day_week\",\n",
    "           y='views',\n",
    "           data=dados,\n",
    "           palette='winter')"
   ]
  },
  {
   "cell_type": "code",
   "execution_count": null,
   "metadata": {},
   "outputs": [],
   "source": [
    "plt.figure(figsize = (14,6))\n",
    "\n",
    "g = sns.boxplot(x='snippet_title', y='likes', data=dados, palette=\"Set1\")\n",
    "g.set_xticklabels(g.get_xticklabels(),rotation=45)\n",
    "g.set_title(\"Distribuição de Likes por categoria \", fontsize=12)\n",
    "g.set_xlabel(\"\", fontsize=12)\n",
    "g.set_ylabel(\"Likes(log)\", fontsize=12)\n",
    "plt.show()"
   ]
  },
  {
   "cell_type": "code",
   "execution_count": null,
   "metadata": {},
   "outputs": [],
   "source": [
    "plt.figure(figsize = (14,6))\n",
    "\n",
    "g = sns.boxplot(x='name_day', y='dislikes', data=dados, palette=\"Set1\")\n",
    "g.set_xticklabels(g.get_xticklabels(),rotation=45)\n",
    "g.set_title(\"Distribuição de Likes por dia da semana\", fontsize=15)\n",
    "g.set_xlabel(\"\", fontsize=12)\n",
    "g.set_ylabel(\"Likes(log)\", fontsize=12)\n",
    "plt.show()"
   ]
  },
  {
   "cell_type": "code",
   "execution_count": null,
   "metadata": {},
   "outputs": [],
   "source": [
    "plt.figure(figsize = (14,6))\n",
    "\n",
    "g = sns.boxplot(x='day_week', y='time_up', data=dados, palette=\"Set1\")\n",
    "g.set_xticklabels(g.get_xticklabels(),rotation=45)\n",
    "g.set_title(\"Distribuição de Likes por fim de semana/dia da semana\", fontsize=15)\n",
    "g.set_xlabel(\"\", fontsize=12)\n",
    "g.set_ylabel(\"time_up\", fontsize=12)\n",
    "plt.show()"
   ]
  },
  {
   "cell_type": "code",
   "execution_count": null,
   "metadata": {},
   "outputs": [],
   "source": [
    "# Funções para desenhar modelos de regressão linear \n",
    "sns.set(color_codes=True)\n",
    "sns.regplot(x=\"views\", y=\"likes\", data=dados);"
   ]
  },
  {
   "cell_type": "code",
   "execution_count": null,
   "metadata": {},
   "outputs": [],
   "source": [
    "\n",
    "sns.set(style=\"white\")\n",
    "\n",
    "# Plot de likes por visualizações\n",
    "sns.relplot(x=\"likes\", y=\"views\", hue=\"snippet_title\", size=\"views\",\n",
    "            sizes=(40, 400), alpha=.5, palette=\"muted\",\n",
    "            height=6, data=dados)"
   ]
  },
  {
   "cell_type": "code",
   "execution_count": null,
   "metadata": {},
   "outputs": [],
   "source": []
  },
  {
   "cell_type": "markdown",
   "metadata": {},
   "source": [
    "### seaborn.boxplot"
   ]
  },
  {
   "cell_type": "code",
   "execution_count": null,
   "metadata": {},
   "outputs": [],
   "source": [
    "sns.lmplot(x=\"views\", y=\"likes\", col=\"name_day\", data=dados,\n",
    "           col_wrap=2, height=5);"
   ]
  },
  {
   "cell_type": "code",
   "execution_count": null,
   "metadata": {},
   "outputs": [],
   "source": [
    "# Use catplot()para combinar a boxplot()e a FacetGrid. Isso permite o agrupamento em variáveis categóricas adicionais. \n",
    "# Usar catplot()é mais seguro do que usar FacetGrid diretamente, pois garante a sincronização da ordem das variáveis entre as facetas:\n",
    "\n",
    "g = sns.catplot(x=\"day_week\", y=\"views\",\n",
    "                hue=\"likes\", col=\"ind_day\",\n",
    "                data=dados, kind=\"box\",\n",
    "                height=4, aspect=.7);"
   ]
  },
  {
   "cell_type": "code",
   "execution_count": null,
   "metadata": {},
   "outputs": [],
   "source": [
    "from scipy import stats\n",
    "sns.distplot(dados.likes, fit = stats.norm);"
   ]
  },
  {
   "cell_type": "markdown",
   "metadata": {},
   "source": [
    "### Times Series"
   ]
  },
  {
   "cell_type": "code",
   "execution_count": null,
   "metadata": {},
   "outputs": [],
   "source": [
    "#https://www.dataquest.io/blog/tutorial-time-series-analysis-with-pandas/\n",
    "ts_dados = dados.iloc[:,[4,5,6,7,8,12,13,15,16]]"
   ]
  },
  {
   "cell_type": "code",
   "execution_count": null,
   "metadata": {},
   "outputs": [],
   "source": [
    "# Salva o arquivo \"csv\" no diretório:\n",
    "ts_dados.to_csv(\"C:/Users/lambe/OneDrive/Área de Trabalho/Projetos/MachineLearning/ts_dados.csv\", index=False)"
   ]
  },
  {
   "cell_type": "code",
   "execution_count": null,
   "metadata": {},
   "outputs": [],
   "source": [
    "# Lendo o arquivo .csv do diretório\n",
    "arquivo = \"C:/Users/lambe/OneDrive/Área de Trabalho/Projetos/MachineLearning/ts_dados.csv\"\n",
    "dados_TS = read_csv(arquivo, encoding ='utf-8', index_col=0, parse_dates=True)"
   ]
  },
  {
   "cell_type": "code",
   "execution_count": null,
   "metadata": {},
   "outputs": [],
   "source": [
    "dados_TS.head(2)"
   ]
  },
  {
   "cell_type": "code",
   "execution_count": null,
   "metadata": {},
   "outputs": [],
   "source": [
    "dados_TS.info()"
   ]
  },
  {
   "cell_type": "code",
   "execution_count": null,
   "metadata": {},
   "outputs": [],
   "source": [
    "dados_TS.loc['2018-02-15']"
   ]
  },
  {
   "cell_type": "code",
   "execution_count": null,
   "metadata": {},
   "outputs": [],
   "source": [
    "# define o tamanho de figura padrão\n",
    "sns.set(rc={'figure.figsize':(15, 12)})"
   ]
  },
  {
   "cell_type": "code",
   "execution_count": null,
   "metadata": {},
   "outputs": [],
   "source": [
    "ano_2018 = dados_TS.loc['2018-01-01':'2018-03-31']"
   ]
  },
  {
   "cell_type": "code",
   "execution_count": null,
   "metadata": {},
   "outputs": [],
   "source": [
    "ano_2018['likes'].plot(linewidth=0.5);"
   ]
  },
  {
   "cell_type": "code",
   "execution_count": null,
   "metadata": {},
   "outputs": [],
   "source": [
    "ax = dados_TS.loc['2018', 'likes'].plot()\n",
    "ax.set_ylabel('Quant. likes');\n"
   ]
  },
  {
   "cell_type": "code",
   "execution_count": null,
   "metadata": {},
   "outputs": [],
   "source": [
    "sns.boxplot(data=ano_2018, x='name_day', y='likes');"
   ]
  },
  {
   "cell_type": "code",
   "execution_count": null,
   "metadata": {},
   "outputs": [],
   "source": [
    "times_sample = pd.date_range('2018-01-01', periods=90, freq='D')"
   ]
  },
  {
   "cell_type": "code",
   "execution_count": null,
   "metadata": {},
   "outputs": [],
   "source": [
    "vld_sample = ano_2018.loc[times_sample, ['views','likes','dislikes']].copy()"
   ]
  },
  {
   "cell_type": "code",
   "execution_count": null,
   "metadata": {},
   "outputs": [],
   "source": [
    "vld_sample"
   ]
  },
  {
   "cell_type": "code",
   "execution_count": null,
   "metadata": {},
   "outputs": [],
   "source": [
    "agg_views_sample = vld_sample.groupby([\"publish_date\"]).sum()[\"views\"]\n",
    "agg_like_sample = vld_sample.groupby([\"publish_date\"]).sum()[\"likes\"]\n",
    "agg_dislike_sample = vld_sample.groupby([\"publish_date\"]).sum()[\"dislikes\"]"
   ]
  },
  {
   "cell_type": "code",
   "execution_count": null,
   "metadata": {},
   "outputs": [],
   "source": [
    "df_agg_sample = pd.DataFrame({\"Total_Views\": agg_views_sample,\n",
    "                              \"Total_Likes\": agg_like_sample,\n",
    "                              \"Total_Dislikes\": agg_dislike_sample})"
   ]
  },
  {
   "cell_type": "code",
   "execution_count": null,
   "metadata": {},
   "outputs": [],
   "source": [
    "df_agg_sample.head()"
   ]
  },
  {
   "cell_type": "code",
   "execution_count": null,
   "metadata": {},
   "outputs": [],
   "source": [
    "# Convert the data to daily frequency, without filling any missings\n",
    "likes_freq = df_agg_sample.asfreq('D')\n",
    "# Create a column with missings forward filled\n",
    "#likes_freq['Total_Likes - Forward Fill'] = df_agg_sample.asfreq('D', method='ffill')\n",
    "likes_freq"
   ]
  },
  {
   "cell_type": "code",
   "execution_count": null,
   "metadata": {},
   "outputs": [],
   "source": [
    "likes_freq['Total_Views'].plot(linewidth=1);\n",
    "likes_freq['Total_Likes'].plot(linewidth=0.8);\n",
    "likes_freq['Total_Dislikes'].plot(linewidth=0.8);"
   ]
  },
  {
   "cell_type": "code",
   "execution_count": null,
   "metadata": {},
   "outputs": [],
   "source": [
    "#likes_freq['Total_Views'].plot(linewidth=1);\n",
    "#likes_freq['Total_Likes'].plot(linewidth=0.8);\n",
    "#likes_freq['Total_Dislikes'].plot(linewidth=0.8);\n",
    "\n",
    "ax1 = plt.subplot(212)\n",
    "ax1.margins(0.05)           # Default margin is 0.05, value 0 means fit\n",
    "likes_freq['Total_Views'].plot(linewidth=0.8);\n",
    "\n",
    "ax2 = plt.subplot(221)\n",
    "ax2.margins(0.05)           # Values >0.0 zoom out\n",
    "likes_freq['Total_Likes'].plot(linewidth=0.8);\n",
    "ax2.set_title('Zoomed out')\n",
    "\n",
    "ax3 = plt.subplot(222)\n",
    "ax3.margins(0.005)   # Values in (-0.5, 0.0) zooms in to center\n",
    "likes_freq['Total_Dislikes'].plot(linewidth=0.8);\n",
    "ax3.set_title('Zoomed in')\n",
    "\n",
    "plt.show()"
   ]
  },
  {
   "cell_type": "code",
   "execution_count": null,
   "metadata": {},
   "outputs": [],
   "source": [
    "# Using graph_objects \n",
    "import plotly.graph_objects as go\n",
    "import plotly.express as px"
   ]
  },
  {
   "cell_type": "code",
   "execution_count": null,
   "metadata": {},
   "outputs": [],
   "source": [
    "freq = likes_freq.reset_index()"
   ]
  },
  {
   "cell_type": "code",
   "execution_count": null,
   "metadata": {},
   "outputs": [],
   "source": [
    "freq.head(2)"
   ]
  },
  {
   "cell_type": "code",
   "execution_count": null,
   "metadata": {},
   "outputs": [],
   "source": [
    "# Séries Temporais\n",
    "fig  =  go.Figure ([ go.Scatter ( x = freq['publish_date'],  y = freq['Total_Likes'])]) \n",
    "\n",
    "fig.update_xaxes(\n",
    "    rangeslider_visible=True,\n",
    "    rangeselector=dict(\n",
    "        buttons=list([\n",
    "            dict(count=1, label=\"1d\", step=\"day\", stepmode=\"backward\"),\n",
    "            dict(count=1, label=\"1m\", step=\"month\", stepmode=\"backward\"),\n",
    "            dict(count=6, label=\"6m\", step=\"month\", stepmode=\"backward\"),\n",
    "            dict(count=1, label=\"YTD\", step=\"year\", stepmode=\"todate\"),\n",
    "            dict(count=1, label=\"1y\", step=\"year\", stepmode=\"backward\"),\n",
    "            dict(step=\"all\")\n",
    "        ])\n",
    "    )\n",
    ")\n",
    "fig . show ()"
   ]
  },
  {
   "cell_type": "code",
   "execution_count": null,
   "metadata": {},
   "outputs": [],
   "source": [
    "fig  =  px.line ( freq  ,   x = 'publish_date' ,  y = 'Total_Views' ,  title = 'Série temporal com controle deslizante de intervalo e seletores' )\n",
    "\n",
    "fig.update_xaxes(\n",
    "    rangeslider_visible=True,\n",
    "    rangeselector=dict(\n",
    "        buttons=list([\n",
    "            dict(count=1, label=\"1m\", step=\"month\", stepmode=\"backward\"),\n",
    "            dict(count=6, label=\"6m\", step=\"month\", stepmode=\"backward\"),\n",
    "            dict(count=1, label=\"YTD\", step=\"year\", stepmode=\"todate\"),\n",
    "            dict(count=1, label=\"1y\", step=\"year\", stepmode=\"backward\"),\n",
    "            dict(step=\"all\")\n",
    "        ])\n",
    "    )\n",
    ")\n",
    "fig.show()"
   ]
  },
  {
   "cell_type": "code",
   "execution_count": null,
   "metadata": {},
   "outputs": [],
   "source": [
    "#df  =  pd . read_csv ( 'https://raw.githubusercontent.com/plotly/datasets/master/finance-charts-apple.csv' )\n",
    "fig  =  px.line ( freq  ,   x = 'publish_date' ,  y = 'Total_Views' ,  title = 'Série temporal com controle deslizante de intervalo e seletores' )\n",
    "\n",
    "# Use string de data para definir o intervalo xeixo \n",
    "fig.update_layout ( xaxis_range = [ '2018-01-01' , '2018-03-31'  ], \n",
    "                  title_text = \"Definir manualmente o intervalo de datas\" ) \n",
    "fig.show ()"
   ]
  },
  {
   "cell_type": "markdown",
   "metadata": {},
   "source": [
    "### Classificação do vídeo "
   ]
  },
  {
   "cell_type": "code",
   "execution_count": null,
   "metadata": {},
   "outputs": [],
   "source": [
    "# Criando uma coluna para classificar de acordo com as condições se o vídeo é trending\n",
    "# Lista de condições\n",
    "conditions = [\n",
    "    (dados['views'] < 50000) | (dados['likes'] < 20000) | (dados['time_up'] > 5),\n",
    "    (dados['views'] > 50000) & (dados['likes'] > 20000) & (dados['time_up'] <= 5)\n",
    "    ]\n",
    "\n",
    "# criando a lista de valores que representam cada condição\n",
    "values = ['0', '1']\n",
    "\n",
    "dados['is_trending'] = np.select(conditions, values)"
   ]
  },
  {
   "cell_type": "code",
   "execution_count": null,
   "metadata": {},
   "outputs": [],
   "source": []
  },
  {
   "cell_type": "code",
   "execution_count": null,
   "metadata": {},
   "outputs": [],
   "source": []
  },
  {
   "cell_type": "code",
   "execution_count": null,
   "metadata": {},
   "outputs": [],
   "source": []
  },
  {
   "cell_type": "markdown",
   "metadata": {},
   "source": [
    "### Grid"
   ]
  },
  {
   "cell_type": "code",
   "execution_count": null,
   "metadata": {},
   "outputs": [],
   "source": [
    "def hide_axes(axes):\n",
    "    axes.set_frame_on(False)\n",
    "    [n.set_visible(False) for n in axes.get_xticklabels() + axes.get_yticklabels()]\n",
    "    [n.set_visible(False) for n in axes.get_xticklines() + axes.get_yticklines()]\n"
   ]
  },
  {
   "cell_type": "code",
   "execution_count": null,
   "metadata": {},
   "outputs": [],
   "source": [
    "def make_autos_price_plot(figure, gs = None, pddata = None, axes = None):\n",
    "    if not axes:\n",
    "        axes = figure.add_subplot(gs[0, 0])\n",
    "    min_data = pddata.groupby(\"snippet_title\", sort=True)[\"views\"].min()\n",
    "    max_data = pddata.groupby(\"snippet_title\", sort=True)[\"views\"].max()\n",
    "    mean_data = pddata.groupby(\"snippet_title\", sort=True)[\"views\"].mean()\n",
    "    make_ids = geradados.get_make_ids(pddata)\n",
    "    axes.set_title(\"Auto Price Ranges\", fontsize=20)\n",
    "    axes.plot(make_ids, min_data, c=colors[2], linewidth=4, alpha=0.7)\n",
    "    axes.plot(make_ids, mean_data, c=colors[3], linewidth=4, alpha=0.7)\n",
    "    axes.plot(make_ids, max_data, c=colors[4], linewidth=4, alpha=0.7)\n",
    "    axes.set_xticks(range(-1, 13))\n",
    "    axes.set_xticklabels([\" \"] + geradados.get_make_labels(pddata))\n",
    "    axes.set_xlabel(\"snippet_title\", fontsize=16)\n",
    "    axes.set_ylabel(\"views\", fontsize=16)\n",
    "    high_patch = mpl.patches.Patch(color=colors[4], alpha=0.7, label=\"High\")\n",
    "    mean_patch = mpl.patches.Patch(color=colors[3], alpha=0.7, label=\"Mean\")\n",
    "    low_patch = mpl.patches.Patch(color=colors[2], alpha=0.7, label=\"Low\")\n",
    "    axes.legend(handles=[high_patch, mean_patch, low_patch], loc=2)\n",
    "    if gs:\n",
    "        gs.tight_layout(figure)\n",
    "    return axes"
   ]
  },
  {
   "cell_type": "code",
   "execution_count": null,
   "metadata": {},
   "outputs": [],
   "source": [
    "#FIM\n",
    "figure = plt.figure(figsize = (15, 5))\n",
    "interaction = mpl.gridspec.GridSpec(1, 1)\n",
    "\n",
    "prices_axes = interaction_plot(figure, interaction, dados)\n",
    "plt.show()"
   ]
  },
  {
   "cell_type": "code",
   "execution_count": null,
   "metadata": {},
   "outputs": [],
   "source": [
    "def hide_axes(axes):\n",
    "    axes.set_frame_on(False)\n",
    "    [n.set_visible(False) for n in axes.get_xticklabels() + axes.get_yticklabels()]\n",
    "    [n.set_visible(False) for n in axes.get_xticklines() + axes.get_yticklines()]"
   ]
  },
  {
   "cell_type": "code",
   "execution_count": null,
   "metadata": {},
   "outputs": [],
   "source": [
    "# Contruindo as camadas (sem dados)\n",
    "figure = plt.figure(figsize=(10, 8))\n",
    "gs_master = mpl.gridspec.GridSpec(4, 2, height_ratios=[1, 2, 8, 2])\n",
    "\n",
    "# Camada 1 - Title\n",
    "#gs_1 = mpl.gridspec.GridSpecFromSubplotSpec(1, 1, subplot_spec=gs_master[0, :])\n",
    "#title_axes = figure.add_subplot(gs_1[0])\n",
    "\n",
    "gs_1 = mpl.gridspec.GridSpecFromSubplotSpec(1, 1, subplot_spec = gs_master[0, :])\n",
    "title_axes = figure.add_subplot(gs_1[0])\n",
    "title_axes.set_title(\"Plots\", fontsize = 30, color = \"#cdced1\")\n",
    "fig  =  go.Figure ([ go.Scatter ( x = freq['publish_date'],  y = freq['Total_Likes'])]) \n",
    "\n",
    "fig.update_xaxes(\n",
    "    rangeslider_visible=True,\n",
    "    rangeselector=dict(\n",
    "        buttons=list([\n",
    "            dict(count=1, label=\"1d\", step=\"day\", stepmode=\"backward\"),\n",
    "            dict(count=1, label=\"1m\", step=\"month\", stepmode=\"backward\"),\n",
    "            dict(count=6, label=\"6m\", step=\"month\", stepmode=\"backward\"),\n",
    "            dict(count=1, label=\"YTD\", step=\"year\", stepmode=\"todate\"),\n",
    "            dict(count=1, label=\"1y\", step=\"year\", stepmode=\"backward\"),\n",
    "            dict(step=\"all\")\n",
    "        ])\n",
    "    )\n",
    ")\n",
    "fig . show ()\n",
    "\n",
    "# Camada 2 - Price\n",
    "gs_2 = mpl.gridspec.GridSpecFromSubplotSpec(1, 1, subplot_spec=gs_master[1, :])\n",
    "price_axes = figure.add_subplot(gs_2[0])\n",
    "\n",
    "# Camada 3 - Risks & Radar\n",
    "gs_31 = mpl.gridspec.GridSpecFromSubplotSpec(2, 2, height_ratios=[2, 1], subplot_spec=gs_master[2, :1])\n",
    "risk_and_loss_axes = figure.add_subplot(gs_31[0, :])\n",
    "risk_axes = figure.add_subplot(gs_31[1, :1])\n",
    "loss_axes = figure.add_subplot(gs_31[1:, 1])\n",
    "gs_32 = mpl.gridspec.GridSpecFromSubplotSpec(1, 1, subplot_spec=gs_master[2, 1])\n",
    "radar_axes = figure.add_subplot(gs_32[0])\n",
    "\n",
    "# Camada 4 - MPG\n",
    "gs_4 = mpl.gridspec.GridSpecFromSubplotSpec(1, 1, subplot_spec=gs_master[3, :])\n",
    "mpg_axes = figure.add_subplot(gs_4[0])\n",
    "\n",
    "# Une as camas, ainda sem dados\n",
    "gs_master.tight_layout(figure)\n",
    "plt.show()\n",
    "# Camada 1 - Title\n",
    "gs_1 = mpl.gridspec.GridSpecFromSubplotSpec(1, 1, subplot_spec=gs_master[0, :])\n",
    "title_axes = figure.add_subplot(gs_1[0])\n",
    "\n",
    "# Camada 2 - Price\n",
    "gs_2 = mpl.gridspec.GridSpecFromSubplotSpec(1, 1, subplot_spec=gs_master[1, :])\n",
    "price_axes = figure.add_subplot(gs_2[0])\n",
    "\n",
    "# Camada 3 - Risks & Radar\n",
    "gs_31 = mpl.gridspec.GridSpecFromSubplotSpec(2, 2, height_ratios=[2, 1], subplot_spec=gs_master[2, :1])\n",
    "risk_and_loss_axes = figure.add_subplot(gs_31[0, :])\n",
    "risk_axes = figure.add_subplot(gs_31[1, :1])\n",
    "loss_axes = figure.add_subplot(gs_31[1:, 1])\n",
    "gs_32 = mpl.gridspec.GridSpecFromSubplotSpec(1, 1, subplot_spec=gs_master[2, 1])\n",
    "radar_axes = figure.add_subplot(gs_32[0])\n",
    "\n",
    "# Camada 4 - MPG\n",
    "gs_4 = mpl.gridspec.GridSpecFromSubplotSpec(1, 1, subplot_spec=gs_master[3, :])\n",
    "mpg_axes = figure.add_subplot(gs_4[0])\n",
    "\n",
    "# Une as camas, ainda sem dados\n",
    "gs_master.tight_layout(figure)\n",
    "plt.show()"
   ]
  },
  {
   "cell_type": "code",
   "execution_count": null,
   "metadata": {},
   "outputs": [],
   "source": [
    "# Construindo as camadas (com os dados)\n",
    "figure = plt.figure(figsize = (15, 15))\n",
    "gs_master = mpl.gridspec.GridSpec(4, 2, \n",
    "                                  height_ratios = [1, 24, 128, 32], \n",
    "                                  hspace = 0, \n",
    "                                  wspace = 0)\n",
    "\n",
    "# Camada 1 - Title\n",
    "gs_1 = mpl.gridspec.GridSpecFromSubplotSpec(1, 1, subplot_spec = gs_master[0, :])\n",
    "title_axes = figure.add_subplot(gs_1[0])\n",
    "title_axes.set_title(\"Plots\", fontsize = 30, color = \"#cdced1\")\n",
    "geraplot.hide_axes(title_axes)\n",
    "\n",
    "\n",
    "# Camada 2 - Price\n",
    "gs_2 = mpl.gridspec.GridSpecFromSubplotSpec(1, 1, subplot_spec = gs_master[1, :])\n",
    "price_axes = figure.add_subplot(gs_2[0])\n",
    "geraplot.make_autos_price_plot(figure, \n",
    "                               pddata = dados, \n",
    "                               axes = price_axes)\n",
    "\n",
    "\n",
    "# Camada 3, Part I - Risks\n",
    "gs_31 = mpl.gridspec.GridSpecFromSubplotSpec(2, 2, \n",
    "                                             height_ratios = [2, 1], \n",
    "                                             hspace = 0.4, \n",
    "                                             subplot_spec = gs_master[2, :1])\n",
    "risk_and_loss_axes = figure.add_subplot(gs_31[0, :])\n",
    "geraplot.make_autos_loss_and_risk_plot(figure, \n",
    "                                       pddata = dados_normalizados, \n",
    "                                       axes = risk_and_loss_axes, \n",
    "                                       x_label = False, \n",
    "                                       rotate_ticks = True)\n",
    "risk_axes = figure.add_subplot(gs_31[1, :1])\n",
    "geraplot.make_autos_riskiness_plot(figure, \n",
    "                                   pddata = dados_normalizados, \n",
    "                                   axes = risk_axes, \n",
    "                                   legend = False, \n",
    "                                   labels = False)\n",
    "loss_axes = figure.add_subplot(gs_31[1:, 1])\n",
    "geraplot.make_autos_losses_plot(figure, \n",
    "                                pddata = dados_normalizados, \n",
    "                                axes = loss_axes, \n",
    "                                legend = False, \n",
    "                                labels = False)\n",
    "\n",
    "\n",
    "# Camada 3, Part II - Radar\n",
    "gs_32 = mpl.gridspec.GridSpecFromSubplotSpec(5, 3, \n",
    "                                             height_ratios = [1, 20, 20, 20, 20], \n",
    "                                             hspace = 0.6, \n",
    "                                             wspace = 0, \n",
    "                                             subplot_spec = gs_master[2, 1])\n",
    "(rows, cols) = geometry = gs_32.get_geometry()\n",
    "title_axes = figure.add_subplot(gs_32[0, :])\n",
    "inner_axes = []\n",
    "projection = radar.RadarAxes(spoke_count = len(dados_normalizados.groupby(\"make\").mean().columns))\n",
    "[inner_axes.append(figure.add_subplot(m, projection = projection)) for m in [n for n in gs_32][cols:]]\n",
    "geraplot.make_autos_radar_plot(figure, \n",
    "                               pddata = dados_normalizados, \n",
    "                               title_axes = title_axes, \n",
    "                               inner_axes = inner_axes, \n",
    "                               legend_axes = False, \n",
    "                               geometry = geometry)\n",
    "\n",
    "\n",
    "# Camada 4 - MPG\n",
    "gs_4 = mpl.gridspec.GridSpecFromSubplotSpec(1, 1, subplot_spec = gs_master[3, :])\n",
    "mpg_axes = figure.add_subplot(gs_4[0])\n",
    "geraplot.make_autos_mpg_plot(figure, \n",
    "                             pddata = dados, \n",
    "                             axes = mpg_axes)\n",
    "\n",
    "# Unindo as camadas\n",
    "gs_master.tight_layout(figure)\n",
    "plt.show()"
   ]
  },
  {
   "cell_type": "code",
   "execution_count": null,
   "metadata": {},
   "outputs": [],
   "source": [
    "# Construindo as camadas (com os dados)\n",
    "figure = plt.figure(figsize = (15, 15))\n",
    "gs_master = mpl.gridspec.GridSpec(4, 2, \n",
    "                                  height_ratios = [1, 24, 128, 32], \n",
    "                                  hspace = 0, \n",
    "                                  wspace = 0)\n",
    "\n",
    "# Camada 1 - Title\n",
    "gs_1 = mpl.gridspec.GridSpecFromSubplotSpec(1, 1, subplot_spec = gs_master[0, :])\n",
    "title_axes = figure.add_subplot(gs_1[0])\n",
    "title_axes.set_title(\"Plots\", fontsize = 30, color = \"#cdced1\")\n",
    "hide_axes(title_axes)\n",
    "\n",
    "\n",
    "# Unindo as camadas\n",
    "gs_master.tight_layout(figure)\n",
    "plt.show()\n"
   ]
  },
  {
   "cell_type": "code",
   "execution_count": null,
   "metadata": {},
   "outputs": [],
   "source": [
    "#teste"
   ]
  },
  {
   "cell_type": "code",
   "execution_count": null,
   "metadata": {},
   "outputs": [],
   "source": [
    "### Color bars\n",
    "#from bokeh.sampledata.autompg import autompg\n",
    "from bokeh.models import LinearColorMapper, ColorBar\n",
    "from bokeh.transform import transform\n",
    "\n",
    "color_mapper = LinearColorMapper(palette=\"Viridis256\", low=data_low, high=data_high)\n",
    "color_bar = ColorBar(color_mapper=color_mapper, location=(0,0))\n",
    "p.add_layout(color_bar, 'right')\n",
    "\n",
    "\n",
    "source = ColumnDataSource(dados)\n",
    "color_mapper = LinearColorMapper(palette=\"Viridis256\", low=dados.weight.min(), high=dados.weight.max())\n",
    "\n",
    "p = figure(x_axis_label='Visualizações', y_axis_label='Likes', tools='', toolbar_location=None)\n",
    "p.circle(x='views', y='likes', color=transform('weight', color_mapper), size=20, alpha=0.6, source=dados)\n",
    "\n",
    "color_bar = ColorBar(color_mapper=color_mapper, label_standoff=12, location=(0,0), title='Weight')\n",
    "p.add_layout(color_bar, 'right')\n",
    "\n",
    "show(p)"
   ]
  },
  {
   "cell_type": "code",
   "execution_count": null,
   "metadata": {},
   "outputs": [],
   "source": [
    "import pandas as pd\n",
    "\n",
    "from bokeh.layouts import column, row\n",
    "from bokeh.models import Select\n",
    "from bokeh.palettes import Spectral5\n",
    "from bokeh.plotting import curdoc, figure\n",
    "from bokeh.sampledata.autompg import autompg_clean as df\n",
    "\n",
    "df = df.copy()\n",
    "\n",
    "SIZES = list(range(6, 22, 3))\n",
    "COLORS = Spectral5\n",
    "N_SIZES = len(SIZES)\n",
    "N_COLORS = len(COLORS)\n",
    "\n",
    "# data cleanup\n",
    "df.cyl = df.cyl.astype(str)\n",
    "df.yr = df.yr.astype(str)\n",
    "del df['name']\n",
    "\n",
    "columns = sorted(df.columns)\n",
    "discrete = [x for x in columns if df[x].dtype == object]\n",
    "continuous = [x for x in columns if x not in discrete]\n",
    "\n",
    "def create_figure():\n",
    "    xs = df[x.value].values\n",
    "    ys = df[y.value].values\n",
    "    x_title = x.value.title()\n",
    "    y_title = y.value.title()\n",
    "\n",
    "    kw = dict()\n",
    "    if x.value in discrete:\n",
    "        kw['x_range'] = sorted(set(xs))\n",
    "    if y.value in discrete:\n",
    "        kw['y_range'] = sorted(set(ys))\n",
    "    kw['title'] = \"%s vs %s\" % (x_title, y_title)\n",
    "\n",
    "    p = figure(plot_height=600, plot_width=800, tools='pan,box_zoom,hover,reset', **kw)\n",
    "    p.xaxis.axis_label = x_title\n",
    "    p.yaxis.axis_label = y_title\n",
    "\n",
    "    if x.value in discrete:\n",
    "        p.xaxis.major_label_orientation = pd.np.pi / 4\n",
    "\n",
    "    sz = 9\n",
    "    if size.value != 'None':\n",
    "        if len(set(df[size.value])) > N_SIZES:\n",
    "            groups = pd.qcut(df[size.value].values, N_SIZES, duplicates='drop')\n",
    "        else:\n",
    "            groups = pd.Categorical(df[size.value])\n",
    "        sz = [SIZES[xx] for xx in groups.codes]\n",
    "\n",
    "    c = \"#31AADE\"\n",
    "    if color.value != 'None':\n",
    "        if len(set(df[color.value])) > N_COLORS:\n",
    "            groups = pd.qcut(df[color.value].values, N_COLORS, duplicates='drop')\n",
    "        else:\n",
    "            groups = pd.Categorical(df[color.value])\n",
    "        c = [COLORS[xx] for xx in groups.codes]\n",
    "\n",
    "    p.circle(x=xs, y=ys, color=c, size=sz, line_color=\"white\", alpha=0.6, hover_color='white', hover_alpha=0.5)\n",
    "\n",
    "    return p\n",
    "\n",
    "\n",
    "def update(attr, old, new):\n",
    "    layout.children[1] = create_figure()\n",
    "\n",
    "\n",
    "x = Select(title='X-Axis', value='mpg', options=columns)\n",
    "x.on_change('value', update)\n",
    "\n",
    "y = Select(title='Y-Axis', value='hp', options=columns)\n",
    "y.on_change('value', update)\n",
    "\n",
    "size = Select(title='Size', value='None', options=['None'] + continuous)\n",
    "size.on_change('value', update)\n",
    "\n",
    "color = Select(title='Color', value='None', options=['None'] + continuous)\n",
    "color.on_change('value', update)\n",
    "\n",
    "controls = column(x, y, color, size, width=200)\n",
    "layout = row(controls, create_figure())\n",
    "\n",
    "curdoc().add_root(layout)\n",
    "curdoc().title = \"Crossfilter\""
   ]
  },
  {
   "cell_type": "code",
   "execution_count": null,
   "metadata": {},
   "outputs": [],
   "source": [
    "crossfilter"
   ]
  },
  {
   "cell_type": "markdown",
   "metadata": {},
   "source": [
    "### Links"
   ]
  },
  {
   "cell_type": "code",
   "execution_count": null,
   "metadata": {},
   "outputs": [],
   "source": [
    "# Links\n",
    "# https://www.vooo.pro/insights/guia-completo-para-criar-time-series-com-codigo-em-python/\n",
    "# https://realpython.com/pandas-dataframe/#working-with-time-series\n",
    "#https://www.dataquest.io/blog/tutorial-time-series-analysis-with-pandas/\n",
    "# https://matplotlib.org/3.1.1/gallery/lines_bars_and_markers/spectrum_demo.html#sphx-glr-gallery-lines-bars-and-markers-spectrum-demo-py\n",
    "#https://preinventedwheel.com/easy-matplotlib-bar-chart/\n",
    "#https://mybinder.org/v2/gh/bokeh/bokeh-notebooks/master?filepath=tutorial%2F00%20-%20Introduction%20and%20Setup.ipynb"
   ]
  },
  {
   "cell_type": "code",
   "execution_count": null,
   "metadata": {},
   "outputs": [],
   "source": []
  }
 ],
 "metadata": {
  "kernelspec": {
   "display_name": "Python 3",
   "language": "python",
   "name": "python3"
  },
  "language_info": {
   "codemirror_mode": {
    "name": "ipython",
    "version": 3
   },
   "file_extension": ".py",
   "mimetype": "text/x-python",
   "name": "python",
   "nbconvert_exporter": "python",
   "pygments_lexer": "ipython3",
   "version": "3.7.1"
  },
  "toc": {
   "base_numbering": 1,
   "nav_menu": {
    "height": "12px",
    "width": "160px"
   },
   "number_sections": true,
   "sideBar": true,
   "skip_h1_title": false,
   "title_cell": "Table of Contents",
   "title_sidebar": "Contents",
   "toc_cell": false,
   "toc_position": {
    "height": "calc(100% - 180px)",
    "left": "10px",
    "top": "150px",
    "width": "273.188px"
   },
   "toc_section_display": true,
   "toc_window_display": true
  },
  "varInspector": {
   "cols": {
    "lenName": 16,
    "lenType": 16,
    "lenVar": 40
   },
   "kernels_config": {
    "python": {
     "delete_cmd_postfix": "",
     "delete_cmd_prefix": "del ",
     "library": "var_list.py",
     "varRefreshCmd": "print(var_dic_list())"
    },
    "r": {
     "delete_cmd_postfix": ") ",
     "delete_cmd_prefix": "rm(",
     "library": "var_list.r",
     "varRefreshCmd": "cat(var_dic_list()) "
    }
   },
   "types_to_exclude": [
    "module",
    "function",
    "builtin_function_or_method",
    "instance",
    "_Feature"
   ],
   "window_display": false
  }
 },
 "nbformat": 4,
 "nbformat_minor": 2
}
